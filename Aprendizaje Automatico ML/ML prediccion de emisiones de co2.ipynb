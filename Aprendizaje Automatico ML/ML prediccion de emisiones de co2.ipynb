{
 "cells": [
  {
   "cell_type": "markdown",
   "metadata": {},
   "source": [
    "## ML prediccion de emisiones de co2"
   ]
  },
  {
   "cell_type": "code",
   "execution_count": 19,
   "metadata": {},
   "outputs": [],
   "source": [
    "#Librerias a usar\n",
    "\n",
    "import pandas as pd\n",
    "import pandas as pd\n",
    "import numpy as np\n",
    "from sklearn.model_selection import train_test_split\n",
    "from sklearn.linear_model import LinearRegression\n",
    "from sklearn.metrics import mean_squared_error, r2_score\n",
    "import matplotlib.pyplot as plt\n",
    "import seaborn as sns\n",
    "import warnings \n",
    "warnings.filterwarnings('ignore')"
   ]
  },
  {
   "cell_type": "code",
   "execution_count": 20,
   "metadata": {},
   "outputs": [],
   "source": [
    "#Cargamos la data \n",
    "\n",
    "data1a='electric_cars_limpio.csv'\n",
    "data2a='fuel_vehicles_limpio.csv'\n",
    "dataa3='hybrid_vehicle_limpio.csv'"
   ]
  },
  {
   "cell_type": "code",
   "execution_count": 21,
   "metadata": {},
   "outputs": [],
   "source": [
    "#Creamos dfs \n",
    "electric_emissions=pd.read_csv(data1a)\n",
    "fuel_emissions=pd.read_csv(data2a)\n",
    "hybrid_emissions=pd.read_csv(dataa3)"
   ]
  },
  {
   "cell_type": "code",
   "execution_count": 22,
   "metadata": {},
   "outputs": [],
   "source": [
    "#Estandarizamos las columnas que vamos a usar esto nos va ayudar a concatenar \n",
    "electric_emissions = electric_emissions.rename(columns={'vehicle_code':'vehicle code','model':'make','fuel_type': 'fuel_type','emisiones_CO2_g_per_km': 'emissions_co2_g_per_km','power_kw': 'engine_power_kw',\n",
    "    'electric_range_km': 'electric_range_km','year':'registration year'})\n",
    "hybrid_emissions = hybrid_emissions.rename(columns={'fuel type': 'fuel_type','emissions co2 g/km (wltp)': 'emissions_co2_g_per_km',\n",
    "    'engine power (kw)': 'engine_power_kw',\n",
    "    'electric range (km)': 'electric_range_km',\n",
    "    })\n",
    "fuel_emissions = fuel_emissions.rename(columns={'fuel type': 'fuel_type','emissions co2 g/km (wltp)': 'emissions_co2_g_per_km',\n",
    "    'engine power (kw)': 'engine_power_kw',\n",
    "    })"
   ]
  },
  {
   "cell_type": "code",
   "execution_count": 23,
   "metadata": {},
   "outputs": [],
   "source": [
    "#Seleccionamos las columnas que vamos a utilizar \n",
    "electriccolumns=['identifier','manufacturer','make','fuel_type', 'emissions_co2_g_per_km', \n",
    "                   'energy_consumption_wh_per_km', 'engine_power_kw', 'electric_range_km', 'registration year']\n",
    "fuelcolumns=['identifier','manufacturer', 'make', 'fuel_type', 'emissions_co2_g_per_km', \n",
    "                    'engine_power_kw', 'registration year','fuel consumption']\n",
    "\n",
    "hybridcolumns=['identifier','manufacturer', 'make', 'fuel_type', 'emissions_co2_g_per_km','energy_consumption_wh_per_km', \n",
    "                    'engine_power_kw', 'electric_range_km','registration year','fuel consumption']"
   ]
  },
  {
   "cell_type": "code",
   "execution_count": 24,
   "metadata": {},
   "outputs": [],
   "source": [
    "#Creamos data sets limpios \n",
    "electric_emissions_clean = electric_emissions[electriccolumns]\n",
    "fuel_emissions_clean = fuel_emissions[fuelcolumns]\n",
    "hybrid_emissions_clean = hybrid_emissions[hybridcolumns]"
   ]
  },
  {
   "cell_type": "code",
   "execution_count": 25,
   "metadata": {},
   "outputs": [],
   "source": [
    "#Concatenamos \n",
    "combined_emissions = pd.concat([hybrid_emissions_clean, fuel_emissions_clean, electric_emissions_clean])"
   ]
  },
  {
   "cell_type": "code",
   "execution_count": 26,
   "metadata": {},
   "outputs": [],
   "source": [
    "#Remplzamos nulos por 0 y quitamos duplicados \n",
    "combined_emissions=combined_emissions.fillna(0)\n",
    "combined_emissions = combined_emissions.drop_duplicates()"
   ]
  },
  {
   "cell_type": "code",
   "execution_count": 27,
   "metadata": {},
   "outputs": [],
   "source": [
    "#Exportamos el data set limpio a csv para poder usarlo en big query o en cualquier otra plataforma si es necesario \n",
    "combined_emissions.to_csv('combined_emissions_clean.csv', index=False)"
   ]
  },
  {
   "cell_type": "code",
   "execution_count": 28,
   "metadata": {},
   "outputs": [],
   "source": [
    "#Lo volvemos a cargar para el modelo este paso lo podemos evitar si seguimos usando solo un script si ese fuera el caso seguimos trabajando con combined_emissions \n",
    "\n",
    "df = pd.read_csv('combined_emissions_clean.csv')"
   ]
  },
  {
   "cell_type": "code",
   "execution_count": 29,
   "metadata": {},
   "outputs": [],
   "source": [
    "#Como tenemos una variable categorica usamos dummies para poder usarla con valores numéricos y que el modelo los pueda usar \n",
    "df = pd.get_dummies(df, columns=['fuel_type'], drop_first=True)"
   ]
  },
  {
   "cell_type": "code",
   "execution_count": 30,
   "metadata": {},
   "outputs": [],
   "source": [
    "#Dividimos nuestras variables en dependientees e independientes \n",
    "X = df[['engine_power_kw', 'energy_consumption_wh_per_km', 'electric_range_km', 'registration year'] + [col for col in df if col.startswith('fuel_type_')]]\n",
    "y = df['emissions_co2_g_per_km']"
   ]
  },
  {
   "cell_type": "code",
   "execution_count": 31,
   "metadata": {},
   "outputs": [],
   "source": [
    "#Dividimos nuestros registros para el entrenamiento y el testeo y anclamos la seed para que no haya variaciones al correrlo en diferentes momentos \n",
    "X_train, X_test, y_train, y_test = train_test_split(X, y, test_size=0.2, random_state=19)"
   ]
  },
  {
   "cell_type": "code",
   "execution_count": 32,
   "metadata": {},
   "outputs": [],
   "source": [
    "#Realizamos el modelo \n",
    "model_lr = LinearRegression()\n",
    "model_lr.fit(X_train, y_train)\n",
    "y_pred = model_lr.predict(X_test)"
   ]
  },
  {
   "cell_type": "code",
   "execution_count": 33,
   "metadata": {},
   "outputs": [
    {
     "name": "stdout",
     "output_type": "stream",
     "text": [
      "MSE: 575.8864604686372, R²: 0.8399509995840029\n"
     ]
    }
   ],
   "source": [
    "#Vemos las métricas de MSE y R2\n",
    "mse = mean_squared_error(y_test, y_pred)\n",
    "r2 = r2_score(y_test, y_pred)\n",
    "\n",
    "print(f'MSE: {mse}, R²: {r2}')"
   ]
  },
  {
   "cell_type": "code",
   "execution_count": 34,
   "metadata": {},
   "outputs": [
    {
     "data": {
      "image/png": "[encoded data removed]",
      "text/plain": [
       "<Figure size 432x288 with 1 Axes>"
      ]
     },
     "metadata": {
      "needs_background": "light"
     },
     "output_type": "display_data"
    }
   ],
   "source": [
    "#Graficamos la distribucion de las predicciones vs los valores reales \n",
    "plt.scatter(y_test, y_pred)\n",
    "plt.xlabel('Valores Reales de Emisiones de CO2')\n",
    "plt.ylabel('Predicciones de Emisiones de CO2')\n",
    "plt.title('Predicciones vs Valores Reales')\n",
    "plt.show()"
   ]
  },
  {
   "cell_type": "code",
   "execution_count": 39,
   "metadata": {},
   "outputs": [],
   "source": [
    "#Creamos un diccionario para hacer un df y poder predecir con valores nuevos \n",
    "nuevo_vehiculo = {\n",
    "    'engine_power_kw': 91,\n",
    "    'energy_consumption_wh_per_km': 0,\n",
    "    'electric_range_km': 0,\n",
    "    'registration year': 2023,\n",
    "    'fuel_type_diesel/electric': 0,\n",
    "    'fuel_type_e85': 1,\n",
    "    'fuel_type_electric': 0,\n",
    "    'fuel_type_petrol':0,\n",
    "    'fuel_type_petrol/electric':0}\n",
    "prediccion = pd.DataFrame([nuevo_vehiculo])"
   ]
  },
  {
   "cell_type": "code",
   "execution_count": 40,
   "metadata": {},
   "outputs": [
    {
     "name": "stdout",
     "output_type": "stream",
     "text": [
      "Predicción de emisiones de CO2: 124.6613896928491 g/km\n"
     ]
    }
   ],
   "source": [
    "#Realizamos nuevas predicciones en este caso en específico usamos valores del conjunto del testeo para oder observa como varia con el valor real \n",
    "prediccion_emisiones = model_lr.predict(prediccion)\n",
    "print(f'Predicción de emisiones de CO2: {prediccion_emisiones[0]} g/km')"
   ]
  },
  {
   "cell_type": "code",
   "execution_count": 37,
   "metadata": {},
   "outputs": [],
   "source": [
    "#Creamos un df que nos de esta info del conjunto de testeo \n",
    "test_data=X_test.copy()\n",
    "test_data['emissions_co2_g_per_km'] = y_test"
   ]
  },
  {
   "cell_type": "code",
   "execution_count": 38,
   "metadata": {},
   "outputs": [
    {
     "data": {
      "text/html": [
       "<div>\n",
       "<style scoped>\n",
       "    .dataframe tbody tr th:only-of-type {\n",
       "        vertical-align: middle;\n",
       "    }\n",
       "\n",
       "    .dataframe tbody tr th {\n",
       "        vertical-align: top;\n",
       "    }\n",
       "\n",
       "    .dataframe thead th {\n",
       "        text-align: right;\n",
       "    }\n",
       "</style>\n",
       "<table border=\"1\" class=\"dataframe\">\n",
       "  <thead>\n",
       "    <tr style=\"text-align: right;\">\n",
       "      <th></th>\n",
       "      <th>engine_power_kw</th>\n",
       "      <th>energy_consumption_wh_per_km</th>\n",
       "      <th>electric_range_km</th>\n",
       "      <th>registration year</th>\n",
       "      <th>fuel_type_diesel/electric</th>\n",
       "      <th>fuel_type_e85</th>\n",
       "      <th>fuel_type_electric</th>\n",
       "      <th>fuel_type_petrol</th>\n",
       "      <th>fuel_type_petrol/electric</th>\n",
       "      <th>emissions_co2_g_per_km</th>\n",
       "    </tr>\n",
       "  </thead>\n",
       "  <tbody>\n",
       "    <tr>\n",
       "      <th>141880</th>\n",
       "      <td>91.0</td>\n",
       "      <td>0.0</td>\n",
       "      <td>0.0</td>\n",
       "      <td>2023</td>\n",
       "      <td>False</td>\n",
       "      <td>True</td>\n",
       "      <td>False</td>\n",
       "      <td>False</td>\n",
       "      <td>False</td>\n",
       "      <td>121.000000</td>\n",
       "    </tr>\n",
       "    <tr>\n",
       "      <th>102314</th>\n",
       "      <td>96.0</td>\n",
       "      <td>0.0</td>\n",
       "      <td>0.0</td>\n",
       "      <td>2023</td>\n",
       "      <td>False</td>\n",
       "      <td>False</td>\n",
       "      <td>False</td>\n",
       "      <td>True</td>\n",
       "      <td>False</td>\n",
       "      <td>149.000000</td>\n",
       "    </tr>\n",
       "    <tr>\n",
       "      <th>112176</th>\n",
       "      <td>116.0</td>\n",
       "      <td>0.0</td>\n",
       "      <td>0.0</td>\n",
       "      <td>2023</td>\n",
       "      <td>False</td>\n",
       "      <td>False</td>\n",
       "      <td>False</td>\n",
       "      <td>True</td>\n",
       "      <td>False</td>\n",
       "      <td>122.000000</td>\n",
       "    </tr>\n",
       "    <tr>\n",
       "      <th>1473</th>\n",
       "      <td>136.0</td>\n",
       "      <td>214.0</td>\n",
       "      <td>70.0</td>\n",
       "      <td>2023</td>\n",
       "      <td>False</td>\n",
       "      <td>False</td>\n",
       "      <td>False</td>\n",
       "      <td>False</td>\n",
       "      <td>True</td>\n",
       "      <td>25.000000</td>\n",
       "    </tr>\n",
       "    <tr>\n",
       "      <th>182364</th>\n",
       "      <td>150.0</td>\n",
       "      <td>169.0</td>\n",
       "      <td>520.0</td>\n",
       "      <td>2023</td>\n",
       "      <td>False</td>\n",
       "      <td>False</td>\n",
       "      <td>True</td>\n",
       "      <td>False</td>\n",
       "      <td>False</td>\n",
       "      <td>10.891111</td>\n",
       "    </tr>\n",
       "  </tbody>\n",
       "</table>\n",
       "</div>"
      ],
      "text/plain": [
       "        engine_power_kw  energy_consumption_wh_per_km  electric_range_km  \\\n",
       "141880             91.0                           0.0                0.0   \n",
       "102314             96.0                           0.0                0.0   \n",
       "112176            116.0                           0.0                0.0   \n",
       "1473              136.0                         214.0               70.0   \n",
       "182364            150.0                         169.0              520.0   \n",
       "\n",
       "        registration year  fuel_type_diesel/electric  fuel_type_e85  \\\n",
       "141880               2023                      False           True   \n",
       "102314               2023                      False          False   \n",
       "112176               2023                      False          False   \n",
       "1473                 2023                      False          False   \n",
       "182364               2023                      False          False   \n",
       "\n",
       "        fuel_type_electric  fuel_type_petrol  fuel_type_petrol/electric  \\\n",
       "141880               False             False                      False   \n",
       "102314               False              True                      False   \n",
       "112176               False              True                      False   \n",
       "1473                 False             False                       True   \n",
       "182364                True             False                      False   \n",
       "\n",
       "        emissions_co2_g_per_km  \n",
       "141880              121.000000  \n",
       "102314              149.000000  \n",
       "112176              122.000000  \n",
       "1473                 25.000000  \n",
       "182364               10.891111  "
      ]
     },
     "execution_count": 38,
     "metadata": {},
     "output_type": "execute_result"
    }
   ],
   "source": [
    "#Observamos los valores  y vemos que hay una vaeriacion de +3.6 g/km en las emisiones de co2 un valor muy aceptable de predicción por lo que concluimos que el modelo es adecuado y funciona bien \n",
    "test_data.head()"
   ]
  }
 ],
 "metadata": {
  "kernelspec": {
   "display_name": "Python 3",
   "language": "python",
   "name": "python3"
  },
  "language_info": {
   "codemirror_mode": {
    "name": "ipython",
    "version": 3
   },
   "file_extension": ".py",
   "mimetype": "text/x-python",
   "name": "python",
   "nbconvert_exporter": "python",
   "pygments_lexer": "ipython3",
   "version": "3.10.5"
  }
 },
 "nbformat": 4,
 "nbformat_minor": 2
}
