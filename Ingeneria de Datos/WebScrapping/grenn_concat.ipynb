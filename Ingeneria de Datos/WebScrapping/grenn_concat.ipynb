{
 "cells": [
  {
   "cell_type": "code",
   "execution_count": 508,
   "metadata": {},
   "outputs": [],
   "source": [
    "import polars as pl\n",
    "import numpy as np"
   ]
  },
  {
   "cell_type": "code",
   "execution_count": 509,
   "metadata": {},
   "outputs": [],
   "source": [
    "#lista trimestral a remplazar ene_march, april_june, \n",
    "#july_september, october_december\n",
    "trim = \"ene_march\"\n",
    "trim2 = \"april_june\"\n",
    "trim3 = \"july_september\"\n",
    "trim4 = \"october_december\""
   ]
  },
  {
   "cell_type": "code",
   "execution_count": 510,
   "metadata": {},
   "outputs": [],
   "source": [
    "def ajustar_rangos(df, columna_distancia, lim_superior, lim_inferior, step, columna_fecha):\n",
    "    \"\"\"\n",
    "    df: DataFrame de Polars\n",
    "    columna_distancia: Nombre de la columna de distancia a filtrar\n",
    "    lim_superior: Valor superior del rango de distancia\n",
    "    lim_inferior: Valor inferior del rango de distancia\n",
    "    step: Tamaño del paso para la distancia\n",
    "    columna_fecha: Nombre de la columna de fecha para agrupar por días\n",
    "    \"\"\"\n",
    "    total_filas = df.shape[0]  # Número total de filas en el DataFrame\n",
    "    resultado = []  # Lista para almacenar las filas filtradas y ajustadas\n",
    "    \n",
    "    # Extraer solo la fecha de tpep_pickup_datetime (sin hora)\n",
    "    df = df.with_columns(pl.col(columna_fecha).dt.date().alias('grupo_fecha'))\n",
    "\n",
    "    # Iterar sobre cada grupo de fechas\n",
    "    for fecha_grupo, df_grupo in df.group_by('grupo_fecha'):  # Cambiar a group_by\n",
    "        # Iterar sobre los límites del rango de distancia\n",
    "        for limite in np.arange(lim_superior, lim_inferior, -step):\n",
    "            rango_superior = limite\n",
    "            rango_inferior = limite - step\n",
    "            \n",
    "            # Filtrar el DataFrame del grupo de fecha por el rango de distancia\n",
    "            df_rango = df_grupo.filter(\n",
    "                (pl.col(columna_distancia) > rango_inferior) & (pl.col(columna_distancia) <= rango_superior)\n",
    "            )\n",
    "            \n",
    "            # Calcular la cantidad a mantener en este rango de distancia y grupo de fecha\n",
    "            cantidad = int(df_rango.shape[0] / total_filas * 100 * 1000)\n",
    "            \n",
    "            # Si hay más filas de las necesarias, se reducen a la cantidad especificada\n",
    "            if df_rango.shape[0] > cantidad:\n",
    "                df_rango = df_rango.head(cantidad)  # O usa .sample(n=cantidad) para aleatoriedad\n",
    "            \n",
    "            # Agregar el DataFrame ajustado a la lista de resultados\n",
    "            resultado.append(df_rango)\n",
    "\n",
    "    # Concatenar todos los DataFrames ajustados en uno solo\n",
    "    df_final = pl.concat(resultado)\n",
    "    \n",
    "    return df_final"
   ]
  },
  {
   "cell_type": "code",
   "execution_count": 511,
   "metadata": {},
   "outputs": [],
   "source": [
    "def escalado(serie):\n",
    "    # Calcular el primer cuartil (Q1) y el tercer cuartil (Q3)\n",
    "    q1 = serie.quantile(0.25)\n",
    "    q3 = serie.quantile(0.75)\n",
    "    \n",
    "    # Calcular el rango intercuartílico (IQR)\n",
    "    iqr = q3 - q1\n",
    "    \n",
    "    # Aplicar el factor de 1.5 para calcular los límites\n",
    "    iqr_1 = q1 - (1.5 * iqr)\n",
    "    iqr_3 = q3 + (1.5 * iqr)\n",
    "    \n",
    "    return iqr_1, iqr_3"
   ]
  },
  {
   "cell_type": "code",
   "execution_count": 512,
   "metadata": {},
   "outputs": [],
   "source": [
    "def limpiar_nombres_columnas(df):\n",
    "    df.columns = [col.strip().lower() for col in df.columns]\n",
    "    return df"
   ]
  },
  {
   "cell_type": "code",
   "execution_count": 513,
   "metadata": {},
   "outputs": [],
   "source": [
    "part_ruta = \"data_temporal_green/2023_particion_green_\""
   ]
  },
  {
   "cell_type": "code",
   "execution_count": 514,
   "metadata": {},
   "outputs": [],
   "source": [
    "data_ref_schema = pl.read_parquet(\"data_trimestral/2014_green_taxis.parquet\")"
   ]
  },
  {
   "cell_type": "code",
   "execution_count": 515,
   "metadata": {},
   "outputs": [],
   "source": [
    "data_ref_schema_two = pl.read_parquet('data_temporal_green/2016_particion_green_ene_march.parquet')"
   ]
  },
  {
   "cell_type": "code",
   "execution_count": 516,
   "metadata": {},
   "outputs": [],
   "source": [
    "data_ref_schema = limpiar_nombres_columnas(data_ref_schema)\n",
    "data_ref_schema_two = limpiar_nombres_columnas(data_ref_schema_two)"
   ]
  },
  {
   "cell_type": "code",
   "execution_count": 517,
   "metadata": {},
   "outputs": [],
   "source": [
    "df_one = pl.read_parquet(f\"{part_ruta}{trim}.parquet\")"
   ]
  },
  {
   "cell_type": "code",
   "execution_count": 518,
   "metadata": {},
   "outputs": [],
   "source": [
    "df_two = pl.read_parquet(f\"{part_ruta}{trim2}.parquet\")"
   ]
  },
  {
   "cell_type": "code",
   "execution_count": 519,
   "metadata": {},
   "outputs": [],
   "source": [
    "df_three = pl.read_parquet(f\"{part_ruta}{trim3}.parquet\")"
   ]
  },
  {
   "cell_type": "code",
   "execution_count": 520,
   "metadata": {},
   "outputs": [],
   "source": [
    "df_four = pl.read_parquet(f\"{part_ruta}{trim4}.parquet\")"
   ]
  },
  {
   "cell_type": "code",
   "execution_count": 521,
   "metadata": {},
   "outputs": [],
   "source": [
    "df_one = limpiar_nombres_columnas(df_one)"
   ]
  },
  {
   "cell_type": "code",
   "execution_count": 522,
   "metadata": {},
   "outputs": [],
   "source": [
    "df_two = limpiar_nombres_columnas(df_two)"
   ]
  },
  {
   "cell_type": "code",
   "execution_count": 523,
   "metadata": {},
   "outputs": [],
   "source": [
    "df_three = limpiar_nombres_columnas(df_three)"
   ]
  },
  {
   "cell_type": "code",
   "execution_count": 524,
   "metadata": {},
   "outputs": [],
   "source": [
    "df_four = limpiar_nombres_columnas(df_four)"
   ]
  },
  {
   "cell_type": "code",
   "execution_count": 525,
   "metadata": {},
   "outputs": [],
   "source": [
    "lim_inferior1, lim_superior1 = escalado(df_one[\"trip_distance\"])\n",
    "\n",
    "df_one = df_one.filter(\n",
    "    (df_one['trip_distance'] >= lim_inferior1) & \n",
    "    (df_one['trip_distance'] <= lim_superior1)\n",
    ")"
   ]
  },
  {
   "cell_type": "code",
   "execution_count": 526,
   "metadata": {},
   "outputs": [],
   "source": [
    "df_one = ajustar_rangos(df_one,\"trip_distance\",lim_superior1,lim_inferior1,1,'lpep_pickup_datetime')"
   ]
  },
  {
   "cell_type": "code",
   "execution_count": 527,
   "metadata": {},
   "outputs": [],
   "source": [
    "lim_inferior2, lim_superior2 = escalado(df_two[\"trip_distance\"])\n",
    "\n",
    "df_two = df_two.filter(\n",
    "    (df_two['trip_distance'] >= lim_inferior2) & \n",
    "    (df_two['trip_distance'] <= lim_superior2)\n",
    ")"
   ]
  },
  {
   "cell_type": "code",
   "execution_count": 528,
   "metadata": {},
   "outputs": [],
   "source": [
    "df_two = ajustar_rangos(df_two,\"trip_distance\",lim_superior2,lim_inferior2,1,'lpep_pickup_datetime')"
   ]
  },
  {
   "cell_type": "code",
   "execution_count": 529,
   "metadata": {},
   "outputs": [],
   "source": [
    "lim_inferior3, lim_superior3 = escalado(df_three[\"trip_distance\"])\n",
    "\n",
    "df_three = df_three.filter(\n",
    "    (df_three['trip_distance'] >= lim_inferior3) & \n",
    "    (df_three['trip_distance'] <= lim_superior3)\n",
    ")"
   ]
  },
  {
   "cell_type": "code",
   "execution_count": 530,
   "metadata": {},
   "outputs": [],
   "source": [
    "df_three = ajustar_rangos(df_three,\"trip_distance\",lim_superior3,lim_inferior3,1,'lpep_pickup_datetime')"
   ]
  },
  {
   "cell_type": "code",
   "execution_count": 531,
   "metadata": {},
   "outputs": [],
   "source": [
    "lim_inferior4, lim_superior4 = escalado(df_four[\"trip_distance\"])\n",
    "\n",
    "df_four = df_four.filter(\n",
    "    (df_four['trip_distance'] >= lim_inferior4) & \n",
    "    (df_four['trip_distance'] <= lim_superior4)\n",
    ")"
   ]
  },
  {
   "cell_type": "code",
   "execution_count": 532,
   "metadata": {},
   "outputs": [],
   "source": [
    "df_four = ajustar_rangos(df_four,\"trip_distance\",lim_superior4,lim_inferior4,1,'lpep_pickup_datetime')"
   ]
  },
  {
   "cell_type": "code",
   "execution_count": 533,
   "metadata": {},
   "outputs": [],
   "source": [
    "columns = data_ref_schema_two.columns\n",
    "\n",
    "df_one = df_one.select(columns)\n",
    "df_two = df_two.select(columns)\n",
    "df_three = df_three.select(columns)\n",
    "df_four = df_four.select(columns)"
   ]
  },
  {
   "cell_type": "code",
   "execution_count": 534,
   "metadata": {},
   "outputs": [],
   "source": [
    "df_final =  pl.concat([df_one,df_two,df_three,df_four])"
   ]
  },
  {
   "cell_type": "code",
   "execution_count": 535,
   "metadata": {},
   "outputs": [],
   "source": [
    "folder_path = 'data_trimestral'\n",
    "df_final.write_parquet(f'{folder_path}/2023_green_taxis.parquet')"
   ]
  },
  {
   "cell_type": "code",
   "execution_count": 552,
   "metadata": {},
   "outputs": [],
   "source": [
    "df_ex = pl.read_parquet('data_trimestral/2023_green_taxis.parquet')"
   ]
  },
  {
   "cell_type": "code",
   "execution_count": 537,
   "metadata": {},
   "outputs": [],
   "source": [
    "#df_ex = df_ex.drop([\"improvement_surcharge\",\"trip_type\"])"
   ]
  },
  {
   "cell_type": "code",
   "execution_count": 538,
   "metadata": {},
   "outputs": [],
   "source": [
    "data_ref_schema = data_ref_schema.drop(\"grupo_fecha\")"
   ]
  },
  {
   "cell_type": "code",
   "execution_count": 549,
   "metadata": {},
   "outputs": [],
   "source": [
    "#orden_columnas = data_ref_schema.columns\n",
    "\n",
    "#df_ex = df_ex.select(orden_columnas)"
   ]
  },
  {
   "cell_type": "code",
   "execution_count": 551,
   "metadata": {},
   "outputs": [],
   "source": [
    "#df_ex.write_parquet(f'{folder_path}/2023_green_taxis.parquet')"
   ]
  },
  {
   "cell_type": "code",
   "execution_count": 547,
   "metadata": {},
   "outputs": [],
   "source": [
    "#df_ex = df_ex.drop_nulls()"
   ]
  },
  {
   "cell_type": "code",
   "execution_count": null,
   "metadata": {},
   "outputs": [],
   "source": []
  }
 ],
 "metadata": {
  "kernelspec": {
   "display_name": "Python 3",
   "language": "python",
   "name": "python3"
  },
  "language_info": {
   "codemirror_mode": {
    "name": "ipython",
    "version": 3
   },
   "file_extension": ".py",
   "mimetype": "text/x-python",
   "name": "python",
   "nbconvert_exporter": "python",
   "pygments_lexer": "ipython3",
   "version": "3.10.10"
  }
 },
 "nbformat": 4,
 "nbformat_minor": 2
}
