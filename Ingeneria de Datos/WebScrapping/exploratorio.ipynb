{
 "cells": [
  {
   "cell_type": "code",
   "execution_count": 1,
   "metadata": {},
   "outputs": [],
   "source": [
    "import polars as pl"
   ]
  },
  {
   "cell_type": "code",
   "execution_count": 10,
   "metadata": {},
   "outputs": [],
   "source": [
    "data_ref_schema = pl.read_parquet('data_yellow_green_taxis/2014_yellow_taxis.parquet')"
   ]
  },
  {
   "cell_type": "code",
   "execution_count": 3,
   "metadata": {},
   "outputs": [],
   "source": [
    "folder_path = 'data_trimestral'\n",
    "\n",
    "yellow_files = [\n",
    "    '2015_ene_march_yellow_taxis'\n",
    "    '2015_april_june_yellow_taxis'\n",
    "    '2015_july_september_yellow_taxis'\n",
    "    '2015_october_december_yellow_taxis'\n",
    "]"
   ]
  },
  {
   "cell_type": "code",
   "execution_count": 28,
   "metadata": {},
   "outputs": [],
   "source": [
    "df_uno = pl.read_parquet(\"data_trimestral/2023_ene_march_yellow_taxis.parquet\")\n",
    "df_dos = pl.read_parquet(\"data_trimestral/2023_april_june_yellow_taxis.parquet\")\n",
    "df_tres = pl.read_parquet(\"data_trimestral/2023_july_september_yellow_taxis.parquet\")\n",
    "df_cuatro = pl.read_parquet(\"data_trimestral/2023_october_december_yellow_taxis.parquet\")"
   ]
  },
  {
   "cell_type": "code",
   "execution_count": 30,
   "metadata": {},
   "outputs": [],
   "source": [
    "\"\"\"\n",
    "# Eliminar la columna 'improvement_surcharge' de cada DataFrame\n",
    "df_uno = df_uno.drop([\"improvement_surcharge\",\"airport_fee\",\"congestion_surcharge\",\"grupo_fecha\"])\n",
    "df_dos = df_dos.drop([\"improvement_surcharge\",\"airport_fee\",\"congestion_surcharge\",\"grupo_fecha\"])\n",
    "df_tres = df_tres.drop([\"improvement_surcharge\",\"airport_fee\",\"congestion_surcharge\",\"grupo_fecha\"])\n",
    "df_cuatro = df_cuatro.drop([\"improvement_surcharge\",\"airport_fee\",\"congestion_surcharge\",\"grupo_fecha\"])\n",
    "\"\"\""
   ]
  },
  {
   "cell_type": "code",
   "execution_count": 29,
   "metadata": {},
   "outputs": [
    {
     "data": {
      "text/html": [
       "<div><style>\n",
       ".dataframe > thead > tr,\n",
       ".dataframe > tbody > tr {\n",
       "  text-align: right;\n",
       "  white-space: pre-wrap;\n",
       "}\n",
       "</style>\n",
       "<small>shape: (299_662, 19)</small><table border=\"1\" class=\"dataframe\"><thead><tr><th>congestion_surcharge</th><th>vendorid</th><th>airport_fee</th><th>improvement_surcharge</th><th>tip_amount</th><th>total_amount</th><th>ratecodeid</th><th>fare_amount</th><th>mta_tax</th><th>passenger_count</th><th>extra</th><th>dolocationid</th><th>tpep_dropoff_datetime</th><th>tpep_pickup_datetime</th><th>pulocationid</th><th>payment_type</th><th>trip_distance</th><th>tolls_amount</th><th>grupo_fecha</th></tr><tr><td>f64</td><td>f64</td><td>f64</td><td>f64</td><td>f64</td><td>f64</td><td>f64</td><td>f64</td><td>f64</td><td>f64</td><td>f64</td><td>f64</td><td>datetime[ns]</td><td>datetime[ns]</td><td>f64</td><td>f64</td><td>f64</td><td>f64</td><td>date</td></tr></thead><tbody><tr><td>2.5</td><td>2.0</td><td>0.0</td><td>1.0</td><td>5.94</td><td>35.64</td><td>1.0</td><td>24.7</td><td>0.5</td><td>1.0</td><td>1.0</td><td>42.0</td><td>2024-01-24 00:40:01</td><td>2024-01-24 00:24:55</td><td>50.0</td><td>1.0</td><td>5.66</td><td>0.0</td><td>2024-01-24</td></tr><tr><td>2.5</td><td>2.0</td><td>0.0</td><td>1.0</td><td>7.47</td><td>44.81</td><td>1.0</td><td>25.4</td><td>0.5</td><td>1.0</td><td>1.0</td><td>256.0</td><td>2024-01-24 00:53:32</td><td>2024-01-24 00:39:37</td><td>170.0</td><td>1.0</td><td>5.86</td><td>6.94</td><td>2024-01-24</td></tr><tr><td>2.5</td><td>2.0</td><td>0.0</td><td>1.0</td><td>8.47</td><td>42.37</td><td>1.0</td><td>28.9</td><td>0.5</td><td>1.0</td><td>1.0</td><td>225.0</td><td>2024-01-24 01:15:59</td><td>2024-01-24 00:51:16</td><td>234.0</td><td>1.0</td><td>5.62</td><td>0.0</td><td>2024-01-24</td></tr><tr><td>2.5</td><td>2.0</td><td>0.0</td><td>1.0</td><td>7.76</td><td>46.56</td><td>1.0</td><td>33.8</td><td>0.5</td><td>1.0</td><td>1.0</td><td>129.0</td><td>2024-01-24 01:01:38</td><td>2024-01-24 00:29:12</td><td>164.0</td><td>1.0</td><td>6.05</td><td>0.0</td><td>2024-01-24</td></tr><tr><td>2.5</td><td>2.0</td><td>0.0</td><td>1.0</td><td>6.22</td><td>37.32</td><td>1.0</td><td>26.1</td><td>0.5</td><td>1.0</td><td>1.0</td><td>255.0</td><td>2024-01-24 00:38:01</td><td>2024-01-24 00:17:21</td><td>164.0</td><td>1.0</td><td>5.39</td><td>0.0</td><td>2024-01-24</td></tr><tr><td>&hellip;</td><td>&hellip;</td><td>&hellip;</td><td>&hellip;</td><td>&hellip;</td><td>&hellip;</td><td>&hellip;</td><td>&hellip;</td><td>&hellip;</td><td>&hellip;</td><td>&hellip;</td><td>&hellip;</td><td>&hellip;</td><td>&hellip;</td><td>&hellip;</td><td>&hellip;</td><td>&hellip;</td><td>&hellip;</td><td>&hellip;</td></tr><tr><td>2.5</td><td>1.0</td><td>0.0</td><td>1.0</td><td>2.0</td><td>11.4</td><td>1.0</td><td>4.4</td><td>0.5</td><td>1.0</td><td>3.5</td><td>100.0</td><td>2024-03-08 02:14:59</td><td>2024-03-08 02:12:38</td><td>164.0</td><td>1.0</td><td>0.3</td><td>0.0</td><td>2024-03-08</td></tr><tr><td>2.5</td><td>1.0</td><td>0.0</td><td>1.0</td><td>2.0</td><td>12.1</td><td>1.0</td><td>5.1</td><td>0.5</td><td>1.0</td><td>3.5</td><td>113.0</td><td>2024-03-08 02:46:12</td><td>2024-03-08 02:42:32</td><td>249.0</td><td>1.0</td><td>0.5</td><td>0.0</td><td>2024-03-08</td></tr><tr><td>2.5</td><td>2.0</td><td>0.0</td><td>1.0</td><td>1.88</td><td>11.28</td><td>1.0</td><td>4.4</td><td>0.5</td><td>1.0</td><td>1.0</td><td>48.0</td><td>2024-03-08 02:47:22</td><td>2024-03-08 02:45:28</td><td>100.0</td><td>1.0</td><td>0.45</td><td>0.0</td><td>2024-03-08</td></tr><tr><td>2.5</td><td>1.0</td><td>0.0</td><td>1.0</td><td>2.0</td><td>12.1</td><td>1.0</td><td>5.1</td><td>0.5</td><td>1.0</td><td>3.5</td><td>50.0</td><td>2024-03-08 02:35:49</td><td>2024-03-08 02:33:28</td><td>48.0</td><td>1.0</td><td>0.5</td><td>0.0</td><td>2024-03-08</td></tr><tr><td>2.5</td><td>2.0</td><td>0.0</td><td>1.0</td><td>1.0</td><td>11.8</td><td>1.0</td><td>5.8</td><td>0.5</td><td>1.0</td><td>1.0</td><td>79.0</td><td>2024-03-08 02:25:54</td><td>2024-03-08 02:21:40</td><td>144.0</td><td>1.0</td><td>0.54</td><td>0.0</td><td>2024-03-08</td></tr></tbody></table></div>"
      ],
      "text/plain": [
       "shape: (299_662, 19)\n",
       "┌───────────┬──────────┬───────────┬───────────┬───┬───────────┬───────────┬───────────┬───────────┐\n",
       "│ congestio ┆ vendorid ┆ airport_f ┆ improveme ┆ … ┆ payment_t ┆ trip_dist ┆ tolls_amo ┆ grupo_fec │\n",
       "│ n_surchar ┆ ---      ┆ ee        ┆ nt_surcha ┆   ┆ ype       ┆ ance      ┆ unt       ┆ ha        │\n",
       "│ ge        ┆ f64      ┆ ---       ┆ rge       ┆   ┆ ---       ┆ ---       ┆ ---       ┆ ---       │\n",
       "│ ---       ┆          ┆ f64       ┆ ---       ┆   ┆ f64       ┆ f64       ┆ f64       ┆ date      │\n",
       "│ f64       ┆          ┆           ┆ f64       ┆   ┆           ┆           ┆           ┆           │\n",
       "╞═══════════╪══════════╪═══════════╪═══════════╪═══╪═══════════╪═══════════╪═══════════╪═══════════╡\n",
       "│ 2.5       ┆ 2.0      ┆ 0.0       ┆ 1.0       ┆ … ┆ 1.0       ┆ 5.66      ┆ 0.0       ┆ 2024-01-2 │\n",
       "│           ┆          ┆           ┆           ┆   ┆           ┆           ┆           ┆ 4         │\n",
       "│ 2.5       ┆ 2.0      ┆ 0.0       ┆ 1.0       ┆ … ┆ 1.0       ┆ 5.86      ┆ 6.94      ┆ 2024-01-2 │\n",
       "│           ┆          ┆           ┆           ┆   ┆           ┆           ┆           ┆ 4         │\n",
       "│ 2.5       ┆ 2.0      ┆ 0.0       ┆ 1.0       ┆ … ┆ 1.0       ┆ 5.62      ┆ 0.0       ┆ 2024-01-2 │\n",
       "│           ┆          ┆           ┆           ┆   ┆           ┆           ┆           ┆ 4         │\n",
       "│ 2.5       ┆ 2.0      ┆ 0.0       ┆ 1.0       ┆ … ┆ 1.0       ┆ 6.05      ┆ 0.0       ┆ 2024-01-2 │\n",
       "│           ┆          ┆           ┆           ┆   ┆           ┆           ┆           ┆ 4         │\n",
       "│ 2.5       ┆ 2.0      ┆ 0.0       ┆ 1.0       ┆ … ┆ 1.0       ┆ 5.39      ┆ 0.0       ┆ 2024-01-2 │\n",
       "│           ┆          ┆           ┆           ┆   ┆           ┆           ┆           ┆ 4         │\n",
       "│ …         ┆ …        ┆ …         ┆ …         ┆ … ┆ …         ┆ …         ┆ …         ┆ …         │\n",
       "│ 2.5       ┆ 1.0      ┆ 0.0       ┆ 1.0       ┆ … ┆ 1.0       ┆ 0.3       ┆ 0.0       ┆ 2024-03-0 │\n",
       "│           ┆          ┆           ┆           ┆   ┆           ┆           ┆           ┆ 8         │\n",
       "│ 2.5       ┆ 1.0      ┆ 0.0       ┆ 1.0       ┆ … ┆ 1.0       ┆ 0.5       ┆ 0.0       ┆ 2024-03-0 │\n",
       "│           ┆          ┆           ┆           ┆   ┆           ┆           ┆           ┆ 8         │\n",
       "│ 2.5       ┆ 2.0      ┆ 0.0       ┆ 1.0       ┆ … ┆ 1.0       ┆ 0.45      ┆ 0.0       ┆ 2024-03-0 │\n",
       "│           ┆          ┆           ┆           ┆   ┆           ┆           ┆           ┆ 8         │\n",
       "│ 2.5       ┆ 1.0      ┆ 0.0       ┆ 1.0       ┆ … ┆ 1.0       ┆ 0.5       ┆ 0.0       ┆ 2024-03-0 │\n",
       "│           ┆          ┆           ┆           ┆   ┆           ┆           ┆           ┆ 8         │\n",
       "│ 2.5       ┆ 2.0      ┆ 0.0       ┆ 1.0       ┆ … ┆ 1.0       ┆ 0.54      ┆ 0.0       ┆ 2024-03-0 │\n",
       "│           ┆          ┆           ┆           ┆   ┆           ┆           ┆           ┆ 8         │\n",
       "└───────────┴──────────┴───────────┴───────────┴───┴───────────┴───────────┴───────────┴───────────┘"
      ]
     },
     "execution_count": 29,
     "metadata": {},
     "output_type": "execute_result"
    }
   ],
   "source": [
    "df_uno "
   ]
  },
  {
   "cell_type": "code",
   "execution_count": 31,
   "metadata": {},
   "outputs": [],
   "source": [
    "# Asumiendo que df_uno tiene las columnas en el orden deseado y df_4 ya está alineado\n",
    "orden_columnas = data_ref_schema.columns\n",
    "\n",
    "# Reordenar las columnas de df_4 según el orden de df_uno\n",
    "df_uno = df_uno.select(orden_columnas)\n",
    "df_dos = df_dos.select(orden_columnas)\n",
    "df_tres = df_tres.select(orden_columnas)\n",
    "df_cuatro = df_cuatro.select(orden_columnas)"
   ]
  },
  {
   "cell_type": "code",
   "execution_count": 32,
   "metadata": {},
   "outputs": [],
   "source": [
    "df_final =  pl.concat([df_uno,df_dos,df_tres,df_cuatro])"
   ]
  },
  {
   "cell_type": "code",
   "execution_count": 33,
   "metadata": {},
   "outputs": [],
   "source": [
    "folder_path = 'data_yellow_green_taxis'\n",
    "df_final.write_parquet(f'{folder_path}/2024_yellow_taxis.parquet')"
   ]
  },
  {
   "cell_type": "code",
   "execution_count": 34,
   "metadata": {},
   "outputs": [],
   "source": [
    "df_ex = pl.read_parquet('data_yellow_green_taxis/2024_yellow_taxis.parquet')"
   ]
  }
 ],
 "metadata": {
  "kernelspec": {
   "display_name": "Python 3",
   "language": "python",
   "name": "python3"
  },
  "language_info": {
   "codemirror_mode": {
    "name": "ipython",
    "version": 3
   },
   "file_extension": ".py",
   "mimetype": "text/x-python",
   "name": "python",
   "nbconvert_exporter": "python",
   "pygments_lexer": "ipython3",
   "version": "3.10.10"
  }
 },
 "nbformat": 4,
 "nbformat_minor": 2
}
