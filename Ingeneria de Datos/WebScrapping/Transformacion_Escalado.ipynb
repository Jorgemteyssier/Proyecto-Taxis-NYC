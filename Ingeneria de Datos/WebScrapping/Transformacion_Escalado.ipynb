{
 "cells": [
  {
   "cell_type": "code",
   "execution_count": 3,
   "metadata": {},
   "outputs": [],
   "source": [
    "import polars as pl\n",
    "import os \n",
    "import ManejoFechaData\n",
    "import time\n",
    "import concatenacion_function, importlib"
   ]
  },
  {
   "cell_type": "code",
   "execution_count": 4,
   "metadata": {},
   "outputs": [
    {
     "data": {
      "text/plain": [
       "<module 'ManejoFechaData' from 'd:\\\\visual\\\\ManejoFechaData.py'>"
      ]
     },
     "execution_count": 4,
     "metadata": {},
     "output_type": "execute_result"
    }
   ],
   "source": [
    "from concatenacion_function import concatenacion\n",
    "from ManejoFechaData import control_mes_uno, control_mes_dos,control_mes_tres,year,trimestre\n",
    "\n",
    "importlib.reload(concatenacion_function)\n",
    "importlib.reload(ManejoFechaData)"
   ]
  },
  {
   "cell_type": "code",
   "execution_count": 5,
   "metadata": {},
   "outputs": [],
   "source": [
    "control_one = control_mes_uno()\n",
    "control_two = control_mes_dos()\n",
    "control_three = control_mes_tres()"
   ]
  },
  {
   "cell_type": "code",
   "execution_count": 6,
   "metadata": {},
   "outputs": [],
   "source": [
    "year_value = year\n",
    "trim = trimestre()"
   ]
  },
  {
   "cell_type": "code",
   "execution_count": 7,
   "metadata": {},
   "outputs": [],
   "source": [
    "folder_path = 'data_particionada_temporal'\n",
    "yellow_files = [\n",
    "    f'{year_value}_particion_yellow1_{trim}.parquet', \n",
    "    f'{year_value}_particion_yellow2_{trim}.parquet', \n",
    "    f'{year_value}_particion_yellow3_{trim}.parquet',\n",
    "    f'{year_value}_particion_yellow4_{trim}.parquet'\n",
    "    ]"
   ]
  },
  {
   "cell_type": "code",
   "execution_count": 8,
   "metadata": {},
   "outputs": [],
   "source": [
    "file_path = os.path.join(folder_path, yellow_files[0])\n",
    "df_uno = pl.read_parquet(file_path)"
   ]
  },
  {
   "cell_type": "code",
   "execution_count": 9,
   "metadata": {},
   "outputs": [
    {
     "data": {
      "text/html": [
       "<div><style>\n",
       ".dataframe > thead > tr,\n",
       ".dataframe > tbody > tr {\n",
       "  text-align: right;\n",
       "  white-space: pre-wrap;\n",
       "}\n",
       "</style>\n",
       "<small>shape: (2_694_328, 18)</small><table border=\"1\" class=\"dataframe\"><thead><tr><th>mta_tax</th><th>extra</th><th>tpep_dropoff_datetime</th><th>payment_type</th><th>congestion_surcharge</th><th>dolocationid</th><th>passenger_count</th><th>trip_distance</th><th>ratecodeid</th><th>fare_amount</th><th>improvement_surcharge</th><th>total_amount</th><th>tolls_amount</th><th>tpep_pickup_datetime</th><th>pulocationid</th><th>tip_amount</th><th>airport_fee</th><th>vendorid</th></tr><tr><td>f64</td><td>f64</td><td>datetime[ns]</td><td>f64</td><td>f64</td><td>f64</td><td>f64</td><td>f64</td><td>f64</td><td>f64</td><td>f64</td><td>f64</td><td>f64</td><td>datetime[ns]</td><td>f64</td><td>f64</td><td>f64</td><td>f64</td></tr></thead><tbody><tr><td>0.5</td><td>3.5</td><td>2024-04-01 00:30:42</td><td>1.0</td><td>2.5</td><td>7.0</td><td>0.0</td><td>5.2</td><td>1.0</td><td>29.6</td><td>1.0</td><td>43.25</td><td>0.0</td><td>2024-04-01 00:02:40</td><td>161.0</td><td>8.65</td><td>0.0</td><td>1.0</td></tr><tr><td>0.5</td><td>1.0</td><td>2024-04-01 00:55:29</td><td>1.0</td><td>0.0</td><td>264.0</td><td>1.0</td><td>5.6</td><td>1.0</td><td>25.4</td><td>1.0</td><td>37.9</td><td>0.0</td><td>2024-04-01 00:41:12</td><td>264.0</td><td>10.0</td><td>0.0</td><td>2.0</td></tr><tr><td>0.5</td><td>1.0</td><td>2024-04-01 01:05:30</td><td>1.0</td><td>2.5</td><td>236.0</td><td>1.0</td><td>3.55</td><td>1.0</td><td>20.5</td><td>1.0</td><td>30.6</td><td>0.0</td><td>2024-04-01 00:48:42</td><td>186.0</td><td>5.1</td><td>0.0</td><td>2.0</td></tr><tr><td>0.5</td><td>1.0</td><td>2024-04-01 01:05:09</td><td>2.0</td><td>2.5</td><td>164.0</td><td>1.0</td><td>1.06</td><td>1.0</td><td>10.0</td><td>1.0</td><td>15.0</td><td>0.0</td><td>2024-04-01 00:56:02</td><td>137.0</td><td>0.0</td><td>0.0</td><td>2.0</td></tr><tr><td>0.5</td><td>3.5</td><td>2024-04-01 00:10:24</td><td>1.0</td><td>2.5</td><td>263.0</td><td>1.0</td><td>0.7</td><td>1.0</td><td>5.1</td><td>1.0</td><td>12.1</td><td>0.0</td><td>2024-04-01 00:08:32</td><td>236.0</td><td>2.0</td><td>0.0</td><td>1.0</td></tr><tr><td>&hellip;</td><td>&hellip;</td><td>&hellip;</td><td>&hellip;</td><td>&hellip;</td><td>&hellip;</td><td>&hellip;</td><td>&hellip;</td><td>&hellip;</td><td>&hellip;</td><td>&hellip;</td><td>&hellip;</td><td>&hellip;</td><td>&hellip;</td><td>&hellip;</td><td>&hellip;</td><td>&hellip;</td><td>&hellip;</td></tr><tr><td>0.5</td><td>1.0</td><td>2024-04-26 22:05:15</td><td>1.0</td><td>2.5</td><td>239.0</td><td>1.0</td><td>5.3</td><td>1.0</td><td>27.5</td><td>1.0</td><td>39.0</td><td>0.0</td><td>2024-04-26 21:43:09</td><td>114.0</td><td>6.5</td><td>0.0</td><td>2.0</td></tr><tr><td>0.5</td><td>3.5</td><td>2024-04-26 21:22:55</td><td>2.0</td><td>2.5</td><td>41.0</td><td>1.0</td><td>2.8</td><td>1.0</td><td>16.3</td><td>1.0</td><td>21.3</td><td>0.0</td><td>2024-04-26 21:08:22</td><td>262.0</td><td>0.0</td><td>0.0</td><td>1.0</td></tr><tr><td>0.5</td><td>1.0</td><td>2024-04-26 21:27:52</td><td>1.0</td><td>2.5</td><td>68.0</td><td>1.0</td><td>0.39</td><td>1.0</td><td>4.4</td><td>1.0</td><td>11.28</td><td>0.0</td><td>2024-04-26 21:26:05</td><td>48.0</td><td>1.88</td><td>0.0</td><td>2.0</td></tr><tr><td>0.5</td><td>1.0</td><td>2024-04-26 21:55:33</td><td>1.0</td><td>2.5</td><td>211.0</td><td>1.0</td><td>2.85</td><td>1.0</td><td>18.4</td><td>1.0</td><td>28.08</td><td>0.0</td><td>2024-04-26 21:37:58</td><td>68.0</td><td>4.68</td><td>0.0</td><td>2.0</td></tr><tr><td>0.5</td><td>1.0</td><td>2024-04-26 22:08:19</td><td>1.0</td><td>2.5</td><td>148.0</td><td>1.0</td><td>1.26</td><td>1.0</td><td>11.4</td><td>1.0</td><td>19.68</td><td>0.0</td><td>2024-04-26 21:57:19</td><td>211.0</td><td>3.28</td><td>0.0</td><td>2.0</td></tr></tbody></table></div>"
      ],
      "text/plain": [
       "shape: (2_694_328, 18)\n",
       "┌─────────┬───────┬─────────────┬────────────┬───┬────────────┬────────────┬────────────┬──────────┐\n",
       "│ mta_tax ┆ extra ┆ tpep_dropof ┆ payment_ty ┆ … ┆ pulocation ┆ tip_amount ┆ airport_fe ┆ vendorid │\n",
       "│ ---     ┆ ---   ┆ f_datetime  ┆ pe         ┆   ┆ id         ┆ ---        ┆ e          ┆ ---      │\n",
       "│ f64     ┆ f64   ┆ ---         ┆ ---        ┆   ┆ ---        ┆ f64        ┆ ---        ┆ f64      │\n",
       "│         ┆       ┆ datetime[ns ┆ f64        ┆   ┆ f64        ┆            ┆ f64        ┆          │\n",
       "│         ┆       ┆ ]           ┆            ┆   ┆            ┆            ┆            ┆          │\n",
       "╞═════════╪═══════╪═════════════╪════════════╪═══╪════════════╪════════════╪════════════╪══════════╡\n",
       "│ 0.5     ┆ 3.5   ┆ 2024-04-01  ┆ 1.0        ┆ … ┆ 161.0      ┆ 8.65       ┆ 0.0        ┆ 1.0      │\n",
       "│         ┆       ┆ 00:30:42    ┆            ┆   ┆            ┆            ┆            ┆          │\n",
       "│ 0.5     ┆ 1.0   ┆ 2024-04-01  ┆ 1.0        ┆ … ┆ 264.0      ┆ 10.0       ┆ 0.0        ┆ 2.0      │\n",
       "│         ┆       ┆ 00:55:29    ┆            ┆   ┆            ┆            ┆            ┆          │\n",
       "│ 0.5     ┆ 1.0   ┆ 2024-04-01  ┆ 1.0        ┆ … ┆ 186.0      ┆ 5.1        ┆ 0.0        ┆ 2.0      │\n",
       "│         ┆       ┆ 01:05:30    ┆            ┆   ┆            ┆            ┆            ┆          │\n",
       "│ 0.5     ┆ 1.0   ┆ 2024-04-01  ┆ 2.0        ┆ … ┆ 137.0      ┆ 0.0        ┆ 0.0        ┆ 2.0      │\n",
       "│         ┆       ┆ 01:05:09    ┆            ┆   ┆            ┆            ┆            ┆          │\n",
       "│ 0.5     ┆ 3.5   ┆ 2024-04-01  ┆ 1.0        ┆ … ┆ 236.0      ┆ 2.0        ┆ 0.0        ┆ 1.0      │\n",
       "│         ┆       ┆ 00:10:24    ┆            ┆   ┆            ┆            ┆            ┆          │\n",
       "│ …       ┆ …     ┆ …           ┆ …          ┆ … ┆ …          ┆ …          ┆ …          ┆ …        │\n",
       "│ 0.5     ┆ 1.0   ┆ 2024-04-26  ┆ 1.0        ┆ … ┆ 114.0      ┆ 6.5        ┆ 0.0        ┆ 2.0      │\n",
       "│         ┆       ┆ 22:05:15    ┆            ┆   ┆            ┆            ┆            ┆          │\n",
       "│ 0.5     ┆ 3.5   ┆ 2024-04-26  ┆ 2.0        ┆ … ┆ 262.0      ┆ 0.0        ┆ 0.0        ┆ 1.0      │\n",
       "│         ┆       ┆ 21:22:55    ┆            ┆   ┆            ┆            ┆            ┆          │\n",
       "│ 0.5     ┆ 1.0   ┆ 2024-04-26  ┆ 1.0        ┆ … ┆ 48.0       ┆ 1.88       ┆ 0.0        ┆ 2.0      │\n",
       "│         ┆       ┆ 21:27:52    ┆            ┆   ┆            ┆            ┆            ┆          │\n",
       "│ 0.5     ┆ 1.0   ┆ 2024-04-26  ┆ 1.0        ┆ … ┆ 68.0       ┆ 4.68       ┆ 0.0        ┆ 2.0      │\n",
       "│         ┆       ┆ 21:55:33    ┆            ┆   ┆            ┆            ┆            ┆          │\n",
       "│ 0.5     ┆ 1.0   ┆ 2024-04-26  ┆ 1.0        ┆ … ┆ 211.0      ┆ 3.28       ┆ 0.0        ┆ 2.0      │\n",
       "│         ┆       ┆ 22:08:19    ┆            ┆   ┆            ┆            ┆            ┆          │\n",
       "└─────────┴───────┴─────────────┴────────────┴───┴────────────┴────────────┴────────────┴──────────┘"
      ]
     },
     "execution_count": 9,
     "metadata": {},
     "output_type": "execute_result"
    }
   ],
   "source": [
    "df_uno"
   ]
  },
  {
   "cell_type": "code",
   "execution_count": 10,
   "metadata": {},
   "outputs": [],
   "source": [
    "file_path2 = os.path.join(folder_path, yellow_files[1])\n",
    "df_dos = pl.read_parquet(file_path2)"
   ]
  },
  {
   "cell_type": "code",
   "execution_count": 11,
   "metadata": {},
   "outputs": [
    {
     "data": {
      "text/html": [
       "<div><style>\n",
       ".dataframe > thead > tr,\n",
       ".dataframe > tbody > tr {\n",
       "  text-align: right;\n",
       "  white-space: pre-wrap;\n",
       "}\n",
       "</style>\n",
       "<small>shape: (2_694_328, 18)</small><table border=\"1\" class=\"dataframe\"><thead><tr><th>mta_tax</th><th>extra</th><th>tpep_dropoff_datetime</th><th>payment_type</th><th>congestion_surcharge</th><th>dolocationid</th><th>passenger_count</th><th>trip_distance</th><th>ratecodeid</th><th>fare_amount</th><th>improvement_surcharge</th><th>total_amount</th><th>tolls_amount</th><th>tpep_pickup_datetime</th><th>pulocationid</th><th>tip_amount</th><th>airport_fee</th><th>vendorid</th></tr><tr><td>f64</td><td>f64</td><td>datetime[ns]</td><td>f64</td><td>f64</td><td>f64</td><td>f64</td><td>f64</td><td>f64</td><td>f64</td><td>f64</td><td>f64</td><td>f64</td><td>datetime[ns]</td><td>f64</td><td>f64</td><td>f64</td><td>f64</td></tr></thead><tbody><tr><td>0.5</td><td>3.5</td><td>2024-04-26 21:32:36</td><td>1.0</td><td>2.5</td><td>140.0</td><td>1.0</td><td>0.7</td><td>1.0</td><td>6.5</td><td>1.0</td><td>13.8</td><td>0.0</td><td>2024-04-26 21:28:17</td><td>229.0</td><td>2.3</td><td>0.0</td><td>1.0</td></tr><tr><td>0.5</td><td>3.5</td><td>2024-04-26 21:43:23</td><td>1.0</td><td>2.5</td><td>141.0</td><td>1.0</td><td>0.4</td><td>1.0</td><td>5.1</td><td>1.0</td><td>12.1</td><td>0.0</td><td>2024-04-26 21:40:55</td><td>141.0</td><td>2.0</td><td>0.0</td><td>1.0</td></tr><tr><td>0.5</td><td>3.5</td><td>2024-04-26 21:50:50</td><td>1.0</td><td>2.5</td><td>236.0</td><td>2.0</td><td>1.3</td><td>1.0</td><td>7.9</td><td>1.0</td><td>14.19</td><td>0.0</td><td>2024-04-26 21:46:06</td><td>140.0</td><td>1.29</td><td>0.0</td><td>1.0</td></tr><tr><td>0.5</td><td>1.0</td><td>2024-04-26 21:48:07</td><td>2.0</td><td>2.5</td><td>79.0</td><td>1.0</td><td>1.3</td><td>1.0</td><td>18.4</td><td>1.0</td><td>23.4</td><td>0.0</td><td>2024-04-26 21:26:12</td><td>249.0</td><td>0.0</td><td>0.0</td><td>2.0</td></tr><tr><td>0.5</td><td>1.0</td><td>2024-04-26 22:10:58</td><td>1.0</td><td>2.5</td><td>211.0</td><td>1.0</td><td>1.51</td><td>1.0</td><td>14.2</td><td>1.0</td><td>23.04</td><td>0.0</td><td>2024-04-26 21:56:04</td><td>79.0</td><td>3.84</td><td>0.0</td><td>2.0</td></tr><tr><td>&hellip;</td><td>&hellip;</td><td>&hellip;</td><td>&hellip;</td><td>&hellip;</td><td>&hellip;</td><td>&hellip;</td><td>&hellip;</td><td>&hellip;</td><td>&hellip;</td><td>&hellip;</td><td>&hellip;</td><td>&hellip;</td><td>&hellip;</td><td>&hellip;</td><td>&hellip;</td><td>&hellip;</td><td>&hellip;</td></tr><tr><td>0.5</td><td>2.5</td><td>2024-05-17 17:58:50</td><td>1.0</td><td>2.5</td><td>79.0</td><td>2.0</td><td>1.65</td><td>1.0</td><td>10.7</td><td>1.0</td><td>20.64</td><td>0.0</td><td>2024-05-17 17:49:36</td><td>164.0</td><td>3.44</td><td>0.0</td><td>2.0</td></tr><tr><td>0.5</td><td>2.5</td><td>2024-05-17 18:00:03</td><td>1.0</td><td>2.5</td><td>142.0</td><td>1.0</td><td>0.9</td><td>1.0</td><td>7.9</td><td>1.0</td><td>17.28</td><td>0.0</td><td>2024-05-17 17:54:02</td><td>237.0</td><td>2.88</td><td>0.0</td><td>2.0</td></tr><tr><td>0.5</td><td>2.5</td><td>2024-05-17 19:21:14</td><td>1.0</td><td>0.0</td><td>18.0</td><td>2.0</td><td>21.9</td><td>1.0</td><td>96.8</td><td>1.0</td><td>107.74</td><td>6.94</td><td>2024-05-17 17:49:43</td><td>132.0</td><td>0.0</td><td>0.0</td><td>1.0</td></tr><tr><td>0.5</td><td>5.0</td><td>2024-05-17 17:26:01</td><td>1.0</td><td>2.5</td><td>234.0</td><td>1.0</td><td>4.1</td><td>1.0</td><td>21.9</td><td>1.0</td><td>33.4</td><td>0.0</td><td>2024-05-17 17:05:54</td><td>262.0</td><td>5.0</td><td>0.0</td><td>1.0</td></tr><tr><td>0.5</td><td>5.0</td><td>2024-05-17 17:31:03</td><td>1.0</td><td>2.5</td><td>90.0</td><td>1.0</td><td>0.7</td><td>1.0</td><td>5.8</td><td>1.0</td><td>13.3</td><td>0.0</td><td>2024-05-17 17:27:37</td><td>90.0</td><td>1.0</td><td>0.0</td><td>1.0</td></tr></tbody></table></div>"
      ],
      "text/plain": [
       "shape: (2_694_328, 18)\n",
       "┌─────────┬───────┬─────────────┬────────────┬───┬────────────┬────────────┬────────────┬──────────┐\n",
       "│ mta_tax ┆ extra ┆ tpep_dropof ┆ payment_ty ┆ … ┆ pulocation ┆ tip_amount ┆ airport_fe ┆ vendorid │\n",
       "│ ---     ┆ ---   ┆ f_datetime  ┆ pe         ┆   ┆ id         ┆ ---        ┆ e          ┆ ---      │\n",
       "│ f64     ┆ f64   ┆ ---         ┆ ---        ┆   ┆ ---        ┆ f64        ┆ ---        ┆ f64      │\n",
       "│         ┆       ┆ datetime[ns ┆ f64        ┆   ┆ f64        ┆            ┆ f64        ┆          │\n",
       "│         ┆       ┆ ]           ┆            ┆   ┆            ┆            ┆            ┆          │\n",
       "╞═════════╪═══════╪═════════════╪════════════╪═══╪════════════╪════════════╪════════════╪══════════╡\n",
       "│ 0.5     ┆ 3.5   ┆ 2024-04-26  ┆ 1.0        ┆ … ┆ 229.0      ┆ 2.3        ┆ 0.0        ┆ 1.0      │\n",
       "│         ┆       ┆ 21:32:36    ┆            ┆   ┆            ┆            ┆            ┆          │\n",
       "│ 0.5     ┆ 3.5   ┆ 2024-04-26  ┆ 1.0        ┆ … ┆ 141.0      ┆ 2.0        ┆ 0.0        ┆ 1.0      │\n",
       "│         ┆       ┆ 21:43:23    ┆            ┆   ┆            ┆            ┆            ┆          │\n",
       "│ 0.5     ┆ 3.5   ┆ 2024-04-26  ┆ 1.0        ┆ … ┆ 140.0      ┆ 1.29       ┆ 0.0        ┆ 1.0      │\n",
       "│         ┆       ┆ 21:50:50    ┆            ┆   ┆            ┆            ┆            ┆          │\n",
       "│ 0.5     ┆ 1.0   ┆ 2024-04-26  ┆ 2.0        ┆ … ┆ 249.0      ┆ 0.0        ┆ 0.0        ┆ 2.0      │\n",
       "│         ┆       ┆ 21:48:07    ┆            ┆   ┆            ┆            ┆            ┆          │\n",
       "│ 0.5     ┆ 1.0   ┆ 2024-04-26  ┆ 1.0        ┆ … ┆ 79.0       ┆ 3.84       ┆ 0.0        ┆ 2.0      │\n",
       "│         ┆       ┆ 22:10:58    ┆            ┆   ┆            ┆            ┆            ┆          │\n",
       "│ …       ┆ …     ┆ …           ┆ …          ┆ … ┆ …          ┆ …          ┆ …          ┆ …        │\n",
       "│ 0.5     ┆ 2.5   ┆ 2024-05-17  ┆ 1.0        ┆ … ┆ 164.0      ┆ 3.44       ┆ 0.0        ┆ 2.0      │\n",
       "│         ┆       ┆ 17:58:50    ┆            ┆   ┆            ┆            ┆            ┆          │\n",
       "│ 0.5     ┆ 2.5   ┆ 2024-05-17  ┆ 1.0        ┆ … ┆ 237.0      ┆ 2.88       ┆ 0.0        ┆ 2.0      │\n",
       "│         ┆       ┆ 18:00:03    ┆            ┆   ┆            ┆            ┆            ┆          │\n",
       "│ 0.5     ┆ 2.5   ┆ 2024-05-17  ┆ 1.0        ┆ … ┆ 132.0      ┆ 0.0        ┆ 0.0        ┆ 1.0      │\n",
       "│         ┆       ┆ 19:21:14    ┆            ┆   ┆            ┆            ┆            ┆          │\n",
       "│ 0.5     ┆ 5.0   ┆ 2024-05-17  ┆ 1.0        ┆ … ┆ 262.0      ┆ 5.0        ┆ 0.0        ┆ 1.0      │\n",
       "│         ┆       ┆ 17:26:01    ┆            ┆   ┆            ┆            ┆            ┆          │\n",
       "│ 0.5     ┆ 5.0   ┆ 2024-05-17  ┆ 1.0        ┆ … ┆ 90.0       ┆ 1.0        ┆ 0.0        ┆ 1.0      │\n",
       "│         ┆       ┆ 17:31:03    ┆            ┆   ┆            ┆            ┆            ┆          │\n",
       "└─────────┴───────┴─────────────┴────────────┴───┴────────────┴────────────┴────────────┴──────────┘"
      ]
     },
     "execution_count": 11,
     "metadata": {},
     "output_type": "execute_result"
    }
   ],
   "source": [
    "df_dos"
   ]
  },
  {
   "cell_type": "code",
   "execution_count": 12,
   "metadata": {},
   "outputs": [],
   "source": [
    "file_path3 = os.path.join(folder_path, yellow_files[2])\n",
    "df_tres = pl.read_parquet(file_path3)"
   ]
  },
  {
   "cell_type": "code",
   "execution_count": 13,
   "metadata": {},
   "outputs": [],
   "source": [
    "file_path4 = os.path.join(folder_path, yellow_files[3])\n",
    "df_cuatro = pl.read_parquet(file_path4)"
   ]
  },
  {
   "cell_type": "code",
   "execution_count": 14,
   "metadata": {},
   "outputs": [],
   "source": [
    "df_yellow_enero, df_yellow_februry, df_yellow_march = concatenacion(df_uno,df_dos,df_tres,df_cuatro,'tpep_pickup_datetime')"
   ]
  },
  {
   "cell_type": "code",
   "execution_count": 15,
   "metadata": {},
   "outputs": [
    {
     "data": {
      "text/html": [
       "<div><style>\n",
       ".dataframe > thead > tr,\n",
       ".dataframe > tbody > tr {\n",
       "  text-align: right;\n",
       "  white-space: pre-wrap;\n",
       "}\n",
       "</style>\n",
       "<small>shape: (3_514_293, 18)</small><table border=\"1\" class=\"dataframe\"><thead><tr><th>mta_tax</th><th>extra</th><th>tpep_dropoff_datetime</th><th>payment_type</th><th>congestion_surcharge</th><th>dolocationid</th><th>passenger_count</th><th>trip_distance</th><th>ratecodeid</th><th>fare_amount</th><th>improvement_surcharge</th><th>total_amount</th><th>tolls_amount</th><th>tpep_pickup_datetime</th><th>pulocationid</th><th>tip_amount</th><th>airport_fee</th><th>vendorid</th></tr><tr><td>f64</td><td>f64</td><td>datetime[ns]</td><td>f64</td><td>f64</td><td>f64</td><td>f64</td><td>f64</td><td>f64</td><td>f64</td><td>f64</td><td>f64</td><td>f64</td><td>datetime[ns]</td><td>f64</td><td>f64</td><td>f64</td><td>f64</td></tr></thead><tbody><tr><td>0.5</td><td>3.5</td><td>2024-04-01 00:30:42</td><td>1.0</td><td>2.5</td><td>7.0</td><td>0.0</td><td>5.2</td><td>1.0</td><td>29.6</td><td>1.0</td><td>43.25</td><td>0.0</td><td>2024-04-01 00:02:40</td><td>161.0</td><td>8.65</td><td>0.0</td><td>1.0</td></tr><tr><td>0.5</td><td>1.0</td><td>2024-04-01 00:55:29</td><td>1.0</td><td>0.0</td><td>264.0</td><td>1.0</td><td>5.6</td><td>1.0</td><td>25.4</td><td>1.0</td><td>37.9</td><td>0.0</td><td>2024-04-01 00:41:12</td><td>264.0</td><td>10.0</td><td>0.0</td><td>2.0</td></tr><tr><td>0.5</td><td>1.0</td><td>2024-04-01 01:05:30</td><td>1.0</td><td>2.5</td><td>236.0</td><td>1.0</td><td>3.55</td><td>1.0</td><td>20.5</td><td>1.0</td><td>30.6</td><td>0.0</td><td>2024-04-01 00:48:42</td><td>186.0</td><td>5.1</td><td>0.0</td><td>2.0</td></tr><tr><td>0.5</td><td>1.0</td><td>2024-04-01 01:05:09</td><td>2.0</td><td>2.5</td><td>164.0</td><td>1.0</td><td>1.06</td><td>1.0</td><td>10.0</td><td>1.0</td><td>15.0</td><td>0.0</td><td>2024-04-01 00:56:02</td><td>137.0</td><td>0.0</td><td>0.0</td><td>2.0</td></tr><tr><td>0.5</td><td>3.5</td><td>2024-04-01 00:10:24</td><td>1.0</td><td>2.5</td><td>263.0</td><td>1.0</td><td>0.7</td><td>1.0</td><td>5.1</td><td>1.0</td><td>12.1</td><td>0.0</td><td>2024-04-01 00:08:32</td><td>236.0</td><td>2.0</td><td>0.0</td><td>1.0</td></tr><tr><td>&hellip;</td><td>&hellip;</td><td>&hellip;</td><td>&hellip;</td><td>&hellip;</td><td>&hellip;</td><td>&hellip;</td><td>&hellip;</td><td>&hellip;</td><td>&hellip;</td><td>&hellip;</td><td>&hellip;</td><td>&hellip;</td><td>&hellip;</td><td>&hellip;</td><td>&hellip;</td><td>&hellip;</td><td>&hellip;</td></tr><tr><td>0.5</td><td>1.0</td><td>2024-05-01 00:13:54</td><td>1.0</td><td>2.5</td><td>68.0</td><td>1.0</td><td>3.94</td><td>1.0</td><td>20.5</td><td>1.0</td><td>30.5</td><td>0.0</td><td>2024-04-30 23:59:41</td><td>140.0</td><td>5.0</td><td>0.0</td><td>2.0</td></tr><tr><td>0.5</td><td>1.0</td><td>2024-05-01 00:14:42</td><td>1.0</td><td>2.5</td><td>49.0</td><td>1.0</td><td>4.69</td><td>1.0</td><td>22.6</td><td>1.0</td><td>30.6</td><td>0.0</td><td>2024-04-30 23:57:20</td><td>158.0</td><td>3.0</td><td>0.0</td><td>2.0</td></tr><tr><td>0.5</td><td>0.0</td><td>2024-05-01 00:42:32</td><td>1.0</td><td>2.5</td><td>50.0</td><td>1.0</td><td>18.66</td><td>2.0</td><td>70.0</td><td>1.0</td><td>92.69</td><td>6.94</td><td>2024-04-30 23:59:59</td><td>132.0</td><td>10.0</td><td>1.75</td><td>2.0</td></tr><tr><td>0.5</td><td>1.0</td><td>2024-05-01 00:06:24</td><td>1.0</td><td>2.5</td><td>68.0</td><td>2.0</td><td>1.13</td><td>1.0</td><td>8.6</td><td>1.0</td><td>16.32</td><td>0.0</td><td>2024-04-30 23:59:50</td><td>48.0</td><td>2.72</td><td>0.0</td><td>2.0</td></tr><tr><td>0.5</td><td>1.0</td><td>2024-05-01 00:04:02</td><td>1.0</td><td>2.5</td><td>263.0</td><td>1.0</td><td>3.1</td><td>1.0</td><td>16.3</td><td>1.0</td><td>21.3</td><td>0.0</td><td>2024-04-30 23:51:12</td><td>48.0</td><td>0.0</td><td>0.0</td><td>2.0</td></tr></tbody></table></div>"
      ],
      "text/plain": [
       "shape: (3_514_293, 18)\n",
       "┌─────────┬───────┬─────────────┬────────────┬───┬────────────┬────────────┬────────────┬──────────┐\n",
       "│ mta_tax ┆ extra ┆ tpep_dropof ┆ payment_ty ┆ … ┆ pulocation ┆ tip_amount ┆ airport_fe ┆ vendorid │\n",
       "│ ---     ┆ ---   ┆ f_datetime  ┆ pe         ┆   ┆ id         ┆ ---        ┆ e          ┆ ---      │\n",
       "│ f64     ┆ f64   ┆ ---         ┆ ---        ┆   ┆ ---        ┆ f64        ┆ ---        ┆ f64      │\n",
       "│         ┆       ┆ datetime[ns ┆ f64        ┆   ┆ f64        ┆            ┆ f64        ┆          │\n",
       "│         ┆       ┆ ]           ┆            ┆   ┆            ┆            ┆            ┆          │\n",
       "╞═════════╪═══════╪═════════════╪════════════╪═══╪════════════╪════════════╪════════════╪══════════╡\n",
       "│ 0.5     ┆ 3.5   ┆ 2024-04-01  ┆ 1.0        ┆ … ┆ 161.0      ┆ 8.65       ┆ 0.0        ┆ 1.0      │\n",
       "│         ┆       ┆ 00:30:42    ┆            ┆   ┆            ┆            ┆            ┆          │\n",
       "│ 0.5     ┆ 1.0   ┆ 2024-04-01  ┆ 1.0        ┆ … ┆ 264.0      ┆ 10.0       ┆ 0.0        ┆ 2.0      │\n",
       "│         ┆       ┆ 00:55:29    ┆            ┆   ┆            ┆            ┆            ┆          │\n",
       "│ 0.5     ┆ 1.0   ┆ 2024-04-01  ┆ 1.0        ┆ … ┆ 186.0      ┆ 5.1        ┆ 0.0        ┆ 2.0      │\n",
       "│         ┆       ┆ 01:05:30    ┆            ┆   ┆            ┆            ┆            ┆          │\n",
       "│ 0.5     ┆ 1.0   ┆ 2024-04-01  ┆ 2.0        ┆ … ┆ 137.0      ┆ 0.0        ┆ 0.0        ┆ 2.0      │\n",
       "│         ┆       ┆ 01:05:09    ┆            ┆   ┆            ┆            ┆            ┆          │\n",
       "│ 0.5     ┆ 3.5   ┆ 2024-04-01  ┆ 1.0        ┆ … ┆ 236.0      ┆ 2.0        ┆ 0.0        ┆ 1.0      │\n",
       "│         ┆       ┆ 00:10:24    ┆            ┆   ┆            ┆            ┆            ┆          │\n",
       "│ …       ┆ …     ┆ …           ┆ …          ┆ … ┆ …          ┆ …          ┆ …          ┆ …        │\n",
       "│ 0.5     ┆ 1.0   ┆ 2024-05-01  ┆ 1.0        ┆ … ┆ 140.0      ┆ 5.0        ┆ 0.0        ┆ 2.0      │\n",
       "│         ┆       ┆ 00:13:54    ┆            ┆   ┆            ┆            ┆            ┆          │\n",
       "│ 0.5     ┆ 1.0   ┆ 2024-05-01  ┆ 1.0        ┆ … ┆ 158.0      ┆ 3.0        ┆ 0.0        ┆ 2.0      │\n",
       "│         ┆       ┆ 00:14:42    ┆            ┆   ┆            ┆            ┆            ┆          │\n",
       "│ 0.5     ┆ 0.0   ┆ 2024-05-01  ┆ 1.0        ┆ … ┆ 132.0      ┆ 10.0       ┆ 1.75       ┆ 2.0      │\n",
       "│         ┆       ┆ 00:42:32    ┆            ┆   ┆            ┆            ┆            ┆          │\n",
       "│ 0.5     ┆ 1.0   ┆ 2024-05-01  ┆ 1.0        ┆ … ┆ 48.0       ┆ 2.72       ┆ 0.0        ┆ 2.0      │\n",
       "│         ┆       ┆ 00:06:24    ┆            ┆   ┆            ┆            ┆            ┆          │\n",
       "│ 0.5     ┆ 1.0   ┆ 2024-05-01  ┆ 1.0        ┆ … ┆ 48.0       ┆ 0.0        ┆ 0.0        ┆ 2.0      │\n",
       "│         ┆       ┆ 00:04:02    ┆            ┆   ┆            ┆            ┆            ┆          │\n",
       "└─────────┴───────┴─────────────┴────────────┴───┴────────────┴────────────┴────────────┴──────────┘"
      ]
     },
     "execution_count": 15,
     "metadata": {},
     "output_type": "execute_result"
    }
   ],
   "source": [
    "df_yellow_enero"
   ]
  },
  {
   "cell_type": "code",
   "execution_count": 16,
   "metadata": {},
   "outputs": [],
   "source": [
    "yellow_files_concat = [\n",
    "    f'{year_value}_particion_yellow1_{control_one}.parquet', \n",
    "    f'{year_value}_particion_yellow2_{control_two}.parquet', \n",
    "    f'{year_value}_particion_yellow3_{control_three}.parquet'\n",
    "    ]"
   ]
  },
  {
   "cell_type": "code",
   "execution_count": 17,
   "metadata": {},
   "outputs": [],
   "source": [
    "time.sleep(2)"
   ]
  },
  {
   "cell_type": "code",
   "execution_count": 18,
   "metadata": {},
   "outputs": [],
   "source": [
    "file_path_one = os.path.join(folder_path, yellow_files_concat[0])\n",
    "df_yellow_enero.write_parquet(file_path_one)"
   ]
  },
  {
   "cell_type": "code",
   "execution_count": 19,
   "metadata": {},
   "outputs": [],
   "source": [
    "time.sleep(2)"
   ]
  },
  {
   "cell_type": "code",
   "execution_count": 20,
   "metadata": {},
   "outputs": [],
   "source": [
    "file_path_two = os.path.join(folder_path, yellow_files_concat[1])\n",
    "df_yellow_februry.write_parquet(file_path_two)"
   ]
  },
  {
   "cell_type": "code",
   "execution_count": 21,
   "metadata": {},
   "outputs": [],
   "source": [
    "time.sleep(2)"
   ]
  },
  {
   "cell_type": "code",
   "execution_count": 22,
   "metadata": {},
   "outputs": [],
   "source": [
    "file_path_three = os.path.join(folder_path, yellow_files_concat[2])\n",
    "df_yellow_march.write_parquet(file_path_three)"
   ]
  },
  {
   "cell_type": "code",
   "execution_count": 23,
   "metadata": {},
   "outputs": [],
   "source": [
    "time.sleep(2)"
   ]
  },
  {
   "cell_type": "code",
   "execution_count": 24,
   "metadata": {},
   "outputs": [
    {
     "name": "stdout",
     "output_type": "stream",
     "text": [
      "Archivo data_particionada_temporal\\2024_particion_yellow1_april_june.parquet eliminado exitosamente.\n",
      "Archivo data_particionada_temporal\\2024_particion_yellow2_april_june.parquet eliminado exitosamente.\n",
      "Archivo data_particionada_temporal\\2024_particion_yellow3_april_june.parquet eliminado exitosamente.\n",
      "Archivo data_particionada_temporal\\2024_particion_yellow4_april_june.parquet eliminado exitosamente.\n"
     ]
    }
   ],
   "source": [
    "# Eliminar los archivos\n",
    "for file_name in yellow_files:\n",
    "    file_path = os.path.join(folder_path, file_name)\n",
    "    try:\n",
    "        os.remove(file_path)\n",
    "        print(f\"Archivo {file_path} eliminado exitosamente.\")\n",
    "    except FileNotFoundError:\n",
    "        print(f\"Archivo {file_path} no encontrado.\")\n",
    "    except Exception as e:\n",
    "        print(f\"Error al eliminar el archivo {file_path}: {e}\")"
   ]
  },
  {
   "cell_type": "code",
   "execution_count": null,
   "metadata": {},
   "outputs": [],
   "source": []
  }
 ],
 "metadata": {
  "kernelspec": {
   "display_name": "Python 3",
   "language": "python",
   "name": "python3"
  },
  "language_info": {
   "codemirror_mode": {
    "name": "ipython",
    "version": 3
   },
   "file_extension": ".py",
   "mimetype": "text/x-python",
   "name": "python",
   "nbconvert_exporter": "python",
   "pygments_lexer": "ipython3",
   "version": "3.10.10"
  }
 },
 "nbformat": 4,
 "nbformat_minor": 2
}
