{
 "cells": [
  {
   "cell_type": "code",
   "execution_count": 3,
   "metadata": {},
   "outputs": [],
   "source": [
    "import polars as pl\n",
    "import ManejoFechaData \n",
    "import importlib\n",
    "import os"
   ]
  },
  {
   "cell_type": "code",
   "execution_count": 4,
   "metadata": {},
   "outputs": [],
   "source": [
    "from ManejoFechaData import year, control_mes_uno, control_mes_dos, control_mes_tres,trimestre\n",
    "\n",
    "importlib.reload(ManejoFechaData)\n",
    "\n",
    "year_value = year\n",
    "control_one = control_mes_uno()\n",
    "control_two = control_mes_dos()\n",
    "control_three = control_mes_tres()\n",
    "trim = trimestre()"
   ]
  },
  {
   "cell_type": "code",
   "execution_count": 5,
   "metadata": {},
   "outputs": [],
   "source": [
    "df_uno = pl.read_parquet(f'data_trimestral\\df_particion_yellow1_{control_one}.parquet')"
   ]
  },
  {
   "cell_type": "code",
   "execution_count": 6,
   "metadata": {},
   "outputs": [],
   "source": [
    "df_dos = pl.read_parquet(f'data_trimestral\\df_particion_yellow2_{control_two}.parquet')"
   ]
  },
  {
   "cell_type": "code",
   "execution_count": 7,
   "metadata": {},
   "outputs": [],
   "source": [
    "df_tres = pl.read_parquet(f'data_trimestral\\df_particion_yellow3_{control_three}.parquet')"
   ]
  },
  {
   "cell_type": "code",
   "execution_count": 8,
   "metadata": {},
   "outputs": [],
   "source": [
    "df_final = pl.concat([df_uno,df_dos,df_tres])"
   ]
  },
  {
   "cell_type": "code",
   "execution_count": 9,
   "metadata": {},
   "outputs": [],
   "source": [
    "df_final.write_parquet(f'data_trimestral/{year_value}_{trim}_yellow_taxis.parquet')"
   ]
  },
  {
   "cell_type": "code",
   "execution_count": 10,
   "metadata": {},
   "outputs": [],
   "source": [
    "folder_path = 'data_particionada_temporal'\n",
    "yellow_files_concat = [\n",
    "    f'{year_value}_particion_yellow1_{control_one}.parquet', \n",
    "    f'{year_value}_particion_yellow2_{control_two}.parquet', \n",
    "    f'{year_value}_particion_yellow3_{control_three}.parquet'\n",
    "    ]"
   ]
  },
  {
   "cell_type": "code",
   "execution_count": 11,
   "metadata": {},
   "outputs": [
    {
     "name": "stdout",
     "output_type": "stream",
     "text": [
      "Archivo data_particionada_temporal\\2024_particion_yellow1_April.parquet eliminado exitosamente.\n",
      "Archivo data_particionada_temporal\\2024_particion_yellow2_May.parquet eliminado exitosamente.\n",
      "Archivo data_particionada_temporal\\2024_particion_yellow3_June.parquet eliminado exitosamente.\n"
     ]
    }
   ],
   "source": [
    "for file_name in yellow_files_concat:\n",
    "    file_path = os.path.join(folder_path, file_name)\n",
    "    try:\n",
    "        os.remove(file_path)\n",
    "        print(f\"Archivo {file_path} eliminado exitosamente.\")\n",
    "    except FileNotFoundError:\n",
    "        print(f\"Archivo {file_path} no encontrado.\")\n",
    "    except Exception as e:\n",
    "        print(f\"Error al eliminar el archivo {file_path}: {e}\")"
   ]
  },
  {
   "cell_type": "code",
   "execution_count": 12,
   "metadata": {},
   "outputs": [],
   "source": [
    "folder_path = 'data_trimestral'\n",
    "yellow_files_concat = [\n",
    "    f'df_particion_yellow1_{control_one}.parquet', \n",
    "    f'df_particion_yellow2_{control_two}.parquet', \n",
    "    f'df_particion_yellow3_{control_three}.parquet'\n",
    "    ]"
   ]
  },
  {
   "cell_type": "code",
   "execution_count": 13,
   "metadata": {},
   "outputs": [
    {
     "name": "stdout",
     "output_type": "stream",
     "text": [
      "Archivo data_trimestral\\df_particion_yellow1_April.parquet eliminado exitosamente.\n",
      "Archivo data_trimestral\\df_particion_yellow2_May.parquet eliminado exitosamente.\n",
      "Archivo data_trimestral\\df_particion_yellow3_June.parquet eliminado exitosamente.\n"
     ]
    }
   ],
   "source": [
    "for file_name in yellow_files_concat:\n",
    "    file_path = os.path.join(folder_path, file_name)\n",
    "    try:\n",
    "        os.remove(file_path)\n",
    "        print(f\"Archivo {file_path} eliminado exitosamente.\")\n",
    "    except FileNotFoundError:\n",
    "        print(f\"Archivo {file_path} no encontrado.\")\n",
    "    except Exception as e:\n",
    "        print(f\"Error al eliminar el archivo {file_path}: {e}\")"
   ]
  }
 ],
 "metadata": {
  "kernelspec": {
   "display_name": "Python 3",
   "language": "python",
   "name": "python3"
  },
  "language_info": {
   "codemirror_mode": {
    "name": "ipython",
    "version": 3
   },
   "file_extension": ".py",
   "mimetype": "text/x-python",
   "name": "python",
   "nbconvert_exporter": "python",
   "pygments_lexer": "ipython3",
   "version": "3.10.10"
  }
 },
 "nbformat": 4,
 "nbformat_minor": 2
}
