{
 "cells": [
  {
   "cell_type": "code",
   "execution_count": 17,
   "metadata": {},
   "outputs": [],
   "source": [
    "import pandas as pd\n",
    "import numpy as np "
   ]
  },
  {
   "cell_type": "markdown",
   "metadata": {},
   "source": [
    "Abrimos el archivo *'Light Duty Vehicles.csv'*"
   ]
  },
  {
   "cell_type": "code",
   "execution_count": 18,
   "metadata": {},
   "outputs": [],
   "source": [
    "df = pd.read_csv(r'C:\\Users\\Pepinot\\Documents\\Henry\\Modulos\\PROYECTO GRUPAL\\Light Duty Vehicles.csv')"
   ]
  },
  {
   "cell_type": "markdown",
   "metadata": {},
   "source": [
    "Observamos el dataset"
   ]
  },
  {
   "cell_type": "code",
   "execution_count": 19,
   "metadata": {},
   "outputs": [
    {
     "data": {
      "text/html": [
       "<div>\n",
       "<style scoped>\n",
       "    .dataframe tbody tr th:only-of-type {\n",
       "        vertical-align: middle;\n",
       "    }\n",
       "\n",
       "    .dataframe tbody tr th {\n",
       "        vertical-align: top;\n",
       "    }\n",
       "\n",
       "    .dataframe thead th {\n",
       "        text-align: right;\n",
       "    }\n",
       "</style>\n",
       "<table border=\"1\" class=\"dataframe\">\n",
       "  <thead>\n",
       "    <tr style=\"text-align: right;\">\n",
       "      <th></th>\n",
       "      <th>Vehicle ID</th>\n",
       "      <th>Fuel ID</th>\n",
       "      <th>Fuel Configuration ID</th>\n",
       "      <th>Manufacturer ID</th>\n",
       "      <th>Category ID</th>\n",
       "      <th>Model</th>\n",
       "      <th>Model Year</th>\n",
       "      <th>Alternative Fuel Economy City</th>\n",
       "      <th>Alternative Fuel Economy Highway</th>\n",
       "      <th>Alternative Fuel Economy Combined</th>\n",
       "      <th>...</th>\n",
       "      <th>Manufacturer URL</th>\n",
       "      <th>Category</th>\n",
       "      <th>Fuel Code</th>\n",
       "      <th>Fuel</th>\n",
       "      <th>Fuel Configuration Name</th>\n",
       "      <th>Electric-Only Range</th>\n",
       "      <th>PHEV Total Range</th>\n",
       "      <th>PHEV Type</th>\n",
       "      <th>Notes</th>\n",
       "      <th>Drivetrain</th>\n",
       "    </tr>\n",
       "  </thead>\n",
       "  <tbody>\n",
       "    <tr>\n",
       "      <th>0</th>\n",
       "      <td>13044</td>\n",
       "      <td>45</td>\n",
       "      <td>9</td>\n",
       "      <td>365</td>\n",
       "      <td>27</td>\n",
       "      <td>NSX                                           ...</td>\n",
       "      <td>2022</td>\n",
       "      <td></td>\n",
       "      <td></td>\n",
       "      <td></td>\n",
       "      <td>...</td>\n",
       "      <td>http://www.acura.com/                         ...</td>\n",
       "      <td>Sedan/Wagon</td>\n",
       "      <td>HYBR</td>\n",
       "      <td>Hybrid Electric</td>\n",
       "      <td>Hybrid Electric</td>\n",
       "      <td></td>\n",
       "      <td></td>\n",
       "      <td></td>\n",
       "      <td>...</td>\n",
       "      <td>AWD</td>\n",
       "    </tr>\n",
       "    <tr>\n",
       "      <th>1</th>\n",
       "      <td>12854</td>\n",
       "      <td>45</td>\n",
       "      <td>9</td>\n",
       "      <td>377</td>\n",
       "      <td>27</td>\n",
       "      <td>A3                                            ...</td>\n",
       "      <td>2022</td>\n",
       "      <td></td>\n",
       "      <td></td>\n",
       "      <td></td>\n",
       "      <td>...</td>\n",
       "      <td>http://progress.audiusa.com/                  ...</td>\n",
       "      <td>Sedan/Wagon</td>\n",
       "      <td>HYBR</td>\n",
       "      <td>Hybrid Electric</td>\n",
       "      <td>Hybrid Electric</td>\n",
       "      <td></td>\n",
       "      <td></td>\n",
       "      <td></td>\n",
       "      <td>...</td>\n",
       "      <td>FWD</td>\n",
       "    </tr>\n",
       "    <tr>\n",
       "      <th>2</th>\n",
       "      <td>12842</td>\n",
       "      <td>45</td>\n",
       "      <td>9</td>\n",
       "      <td>377</td>\n",
       "      <td>27</td>\n",
       "      <td>A3 quattro                                    ...</td>\n",
       "      <td>2022</td>\n",
       "      <td></td>\n",
       "      <td></td>\n",
       "      <td></td>\n",
       "      <td>...</td>\n",
       "      <td>http://progress.audiusa.com/                  ...</td>\n",
       "      <td>Sedan/Wagon</td>\n",
       "      <td>HYBR</td>\n",
       "      <td>Hybrid Electric</td>\n",
       "      <td>Hybrid Electric</td>\n",
       "      <td></td>\n",
       "      <td></td>\n",
       "      <td></td>\n",
       "      <td>...</td>\n",
       "      <td>AWD</td>\n",
       "    </tr>\n",
       "    <tr>\n",
       "      <th>3</th>\n",
       "      <td>12783</td>\n",
       "      <td>45</td>\n",
       "      <td>9</td>\n",
       "      <td>377</td>\n",
       "      <td>27</td>\n",
       "      <td>A4 allroad quattro                            ...</td>\n",
       "      <td>2022</td>\n",
       "      <td></td>\n",
       "      <td></td>\n",
       "      <td></td>\n",
       "      <td>...</td>\n",
       "      <td>http://progress.audiusa.com/                  ...</td>\n",
       "      <td>Sedan/Wagon</td>\n",
       "      <td>HYBR</td>\n",
       "      <td>Hybrid Electric</td>\n",
       "      <td>Hybrid Electric</td>\n",
       "      <td></td>\n",
       "      <td></td>\n",
       "      <td></td>\n",
       "      <td>...</td>\n",
       "      <td>AWD</td>\n",
       "    </tr>\n",
       "    <tr>\n",
       "      <th>4</th>\n",
       "      <td>12782</td>\n",
       "      <td>45</td>\n",
       "      <td>9</td>\n",
       "      <td>377</td>\n",
       "      <td>27</td>\n",
       "      <td>A4 quattro                                    ...</td>\n",
       "      <td>2022</td>\n",
       "      <td></td>\n",
       "      <td></td>\n",
       "      <td></td>\n",
       "      <td>...</td>\n",
       "      <td>http://progress.audiusa.com/                  ...</td>\n",
       "      <td>Sedan/Wagon</td>\n",
       "      <td>HYBR</td>\n",
       "      <td>Hybrid Electric</td>\n",
       "      <td>Hybrid Electric</td>\n",
       "      <td></td>\n",
       "      <td></td>\n",
       "      <td></td>\n",
       "      <td>...</td>\n",
       "      <td>AWD</td>\n",
       "    </tr>\n",
       "  </tbody>\n",
       "</table>\n",
       "<p>5 rows × 29 columns</p>\n",
       "</div>"
      ],
      "text/plain": [
       "   Vehicle ID   Fuel ID   Fuel Configuration ID   Manufacturer ID   \\\n",
       "0        13044        45  9                                    365   \n",
       "1        12854        45  9                                    377   \n",
       "2        12842        45  9                                    377   \n",
       "3        12783        45  9                                    377   \n",
       "4        12782        45  9                                    377   \n",
       "\n",
       "   Category ID  Model                                                \\\n",
       "0            27  NSX                                           ...    \n",
       "1            27  A3                                            ...    \n",
       "2            27  A3 quattro                                    ...    \n",
       "3            27  A4 allroad quattro                            ...    \n",
       "4            27  A4 quattro                                    ...    \n",
       "\n",
       "   Model Year  Alternative Fuel Economy City   \\\n",
       "0         2022                                  \n",
       "1         2022                                  \n",
       "2         2022                                  \n",
       "3         2022                                  \n",
       "4         2022                                  \n",
       "\n",
       "  Alternative Fuel Economy Highway  Alternative Fuel Economy Combined   ...  \\\n",
       "0                                                                       ...   \n",
       "1                                                                       ...   \n",
       "2                                                                       ...   \n",
       "3                                                                       ...   \n",
       "4                                                                       ...   \n",
       "\n",
       "  Manufacturer URL                                                   \\\n",
       "0  http://www.acura.com/                         ...                  \n",
       "1  http://progress.audiusa.com/                  ...                  \n",
       "2  http://progress.audiusa.com/                  ...                  \n",
       "3  http://progress.audiusa.com/                  ...                  \n",
       "4  http://progress.audiusa.com/                  ...                  \n",
       "\n",
       "   Category                    Fuel Code   Fuel                           \\\n",
       "0  Sedan/Wagon                 HYBR        Hybrid Electric                 \n",
       "1  Sedan/Wagon                 HYBR        Hybrid Electric                 \n",
       "2  Sedan/Wagon                 HYBR        Hybrid Electric                 \n",
       "3  Sedan/Wagon                 HYBR        Hybrid Electric                 \n",
       "4  Sedan/Wagon                 HYBR        Hybrid Electric                 \n",
       "\n",
       "   Fuel Configuration Name  Electric-Only Range  PHEV Total Range   \\\n",
       "0  Hybrid Electric                                                   \n",
       "1  Hybrid Electric                                                   \n",
       "2  Hybrid Electric                                                   \n",
       "3  Hybrid Electric                                                   \n",
       "4  Hybrid Electric                                                   \n",
       "\n",
       "  PHEV Type     \\\n",
       "0                \n",
       "1                \n",
       "2                \n",
       "3                \n",
       "4                \n",
       "\n",
       "  Notes                                                                                                                                                                                                                                                                        \\\n",
       "0                                                ...                                                                                                                                                                                                                            \n",
       "1                                                ...                                                                                                                                                                                                                            \n",
       "2                                                ...                                                                                                                                                                                                                            \n",
       "3                                                ...                                                                                                                                                                                                                            \n",
       "4                                                ...                                                                                                                                                                                                                            \n",
       "\n",
       "  Drivetrain  \n",
       "0        AWD  \n",
       "1        FWD  \n",
       "2        AWD  \n",
       "3        AWD  \n",
       "4        AWD  \n",
       "\n",
       "[5 rows x 29 columns]"
      ]
     },
     "execution_count": 19,
     "metadata": {},
     "output_type": "execute_result"
    }
   ],
   "source": [
    "df.head()"
   ]
  },
  {
   "cell_type": "markdown",
   "metadata": {},
   "source": [
    "Observamos una descripcion general de los datos"
   ]
  },
  {
   "cell_type": "code",
   "execution_count": 20,
   "metadata": {},
   "outputs": [
    {
     "name": "stdout",
     "output_type": "stream",
     "text": [
      "<class 'pandas.core.frame.DataFrame'>\n",
      "RangeIndex: 3008 entries, 0 to 3007\n",
      "Data columns (total 29 columns):\n",
      " #   Column                                                                                                                                                                                                                                                                       Non-Null Count  Dtype \n",
      "---  ------                                                                                                                                                                                                                                                                       --------------  ----- \n",
      " 0   Vehicle ID                                                                                                                                                                                                                                                                   3008 non-null   int64 \n",
      " 1   Fuel ID                                                                                                                                                                                                                                                                      3008 non-null   int64 \n",
      " 2   Fuel Configuration ID                                                                                                                                                                                                                                                        3008 non-null   object\n",
      " 3   Manufacturer ID                                                                                                                                                                                                                                                              3008 non-null   int64 \n",
      " 4   Category ID                                                                                                                                                                                                                                                                  3008 non-null   int64 \n",
      " 5   Model                                                                                                                                                                                                                                                                        3008 non-null   object\n",
      " 6   Model Year                                                                                                                                                                                                                                                                   3008 non-null   int64 \n",
      " 7   Alternative Fuel Economy City                                                                                                                                                                                                                                                3008 non-null   object\n",
      " 8   Alternative Fuel Economy Highway                                                                                                                                                                                                                                             3008 non-null   object\n",
      " 9   Alternative Fuel Economy Combined                                                                                                                                                                                                                                            3008 non-null   object\n",
      " 10  Conventional Fuel Economy City                                                                                                                                                                                                                                               3008 non-null   object\n",
      " 11  Conventional Fuel Economy Highway                                                                                                                                                                                                                                            3008 non-null   object\n",
      " 12  Conventional Fuel Economy Combined                                                                                                                                                                                                                                           3008 non-null   object\n",
      " 13  Transmission Type                                                                                                                                                                                                                                                            3008 non-null   object\n",
      " 14  Engine Type                                                                                                                                                                                                                                                                  3008 non-null   object\n",
      " 15  Engine Size                                                                                                                                                                                                                                                                  3008 non-null   object\n",
      " 16  Engine Cylinder Count                                                                                                                                                                                                                                                        3008 non-null   object\n",
      " 17  Engine Description                                                                                                                                                                                                                                                           3008 non-null   object\n",
      " 18  Manufacturer                                                                                                                                                                                                                                                                 3008 non-null   object\n",
      " 19  Manufacturer URL                                                                                                                                                                                                                                                             3008 non-null   object\n",
      " 20  Category                                                                                                                                                                                                                                                                     3008 non-null   object\n",
      " 21  Fuel Code                                                                                                                                                                                                                                                                    3008 non-null   object\n",
      " 22  Fuel                                                                                                                                                                                                                                                                         3008 non-null   object\n",
      " 23  Fuel Configuration Name                                                                                                                                                                                                                                                      3008 non-null   object\n",
      " 24  Electric-Only Range                                                                                                                                                                                                                                                          3008 non-null   object\n",
      " 25  PHEV Total Range                                                                                                                                                                                                                                                             3008 non-null   object\n",
      " 26  PHEV Type                                                                                                                                                                                                                                                                    3008 non-null   object\n",
      " 27  Notes                                                                                                                                                                                                                                                                        3008 non-null   object\n",
      " 28  Drivetrain                                                                                                                                                                                                                                                                   329 non-null    object\n",
      "dtypes: int64(5), object(24)\n",
      "memory usage: 681.6+ KB\n",
      "None\n",
      "       Vehicle ID      Fuel ID   Manufacturer ID   Category ID   Model Year \n",
      "count   3008.00000  3008.000000       3008.000000   3008.000000  3008.000000\n",
      "mean    9424.59242    31.003989        255.855718     24.988697  2014.493019\n",
      "std     4667.98027    18.311570         64.474477      6.021677     6.722191\n",
      "min        1.00000     3.000000        209.000000      3.000000  1991.000000\n",
      "25%    10280.75000    11.000000        215.000000     25.000000  2012.000000\n",
      "50%    11560.50000    41.000000        221.000000     27.000000  2016.000000\n",
      "75%    12336.25000    45.000000        243.000000     29.000000  2020.000000\n",
      "max    13105.00000    57.000000        470.000000     29.000000  2022.000000\n"
     ]
    }
   ],
   "source": [
    "print(df.info())\n",
    "print(df.describe())"
   ]
  },
  {
   "cell_type": "markdown",
   "metadata": {},
   "source": [
    "Cuántas filas y columnas hay"
   ]
  },
  {
   "cell_type": "code",
   "execution_count": 21,
   "metadata": {},
   "outputs": [
    {
     "name": "stdout",
     "output_type": "stream",
     "text": [
      "Número de filas: 3008\n",
      "Número de columnas: 29\n"
     ]
    }
   ],
   "source": [
    "num_filas, num_columnas = df.shape\n",
    "\n",
    "print(f\"Número de filas: {num_filas}\")\n",
    "print(f\"Número de columnas: {num_columnas}\")"
   ]
  },
  {
   "cell_type": "markdown",
   "metadata": {},
   "source": [
    "Observamos las columnas que se encuentran en el dataset"
   ]
  },
  {
   "cell_type": "code",
   "execution_count": 22,
   "metadata": {},
   "outputs": [
    {
     "name": "stdout",
     "output_type": "stream",
     "text": [
      "Nombres de columnas originales:\n",
      "['Vehicle ID ', 'Fuel ID ', 'Fuel Configuration ID ', 'Manufacturer ID ', 'Category ID ', 'Model                                              ', 'Model Year ', 'Alternative Fuel Economy City ', 'Alternative Fuel Economy Highway ', 'Alternative Fuel Economy Combined ', 'Conventional Fuel Economy City ', 'Conventional Fuel Economy Highway ', 'Conventional Fuel Economy Combined ', 'Transmission Type               ', 'Engine Type                                                  ', 'Engine Size                       ', 'Engine Cylinder Count ', 'Engine Description                                                ', 'Manufacturer                 ', 'Manufacturer URL                                                 ', 'Category                  ', 'Fuel Code ', 'Fuel                         ', 'Fuel Configuration Name ', 'Electric-Only Range ', 'PHEV Total Range ', 'PHEV Type   ', 'Notes                                                                                                                                                                                                                                                                      ', 'Drivetrain']\n"
     ]
    }
   ],
   "source": [
    "print(\"Nombres de columnas originales:\")\n",
    "print(df.columns.tolist())"
   ]
  },
  {
   "cell_type": "markdown",
   "metadata": {},
   "source": [
    "Sacamos los espacios en blanco del final y el comienzo de todas las columnas"
   ]
  },
  {
   "cell_type": "code",
   "execution_count": 23,
   "metadata": {},
   "outputs": [],
   "source": [
    "df.columns = df.columns.str.strip()"
   ]
  },
  {
   "cell_type": "markdown",
   "metadata": {},
   "source": [
    "Buscamos duplicados en las columnas"
   ]
  },
  {
   "cell_type": "code",
   "execution_count": 24,
   "metadata": {},
   "outputs": [
    {
     "name": "stdout",
     "output_type": "stream",
     "text": [
      "\n",
      "No se encontraron columnas duplicadas después de la limpieza.\n"
     ]
    }
   ],
   "source": [
    "duplicados = df.columns[df.columns.duplicated()].tolist()\n",
    "if duplicados:\n",
    "    print(f\"\\nAtención: Se encontraron columnas duplicadas después de la limpieza: {duplicados}\")\n",
    "else:\n",
    "    print(\"\\nNo se encontraron columnas duplicadas después de la limpieza.\")"
   ]
  },
  {
   "cell_type": "markdown",
   "metadata": {},
   "source": [
    "Buscamos duplicados en las filas"
   ]
  },
  {
   "cell_type": "code",
   "execution_count": 25,
   "metadata": {},
   "outputs": [
    {
     "name": "stdout",
     "output_type": "stream",
     "text": [
      "\n",
      "Número de filas duplicadas: 0\n"
     ]
    }
   ],
   "source": [
    "duplicados = df.duplicated().sum()\n",
    "print(f\"\\nNúmero de filas duplicadas: {duplicados}\")"
   ]
  },
  {
   "cell_type": "markdown",
   "metadata": {},
   "source": [
    "Vamos a tomar solo las columnas que nos sirven para nuestro objetivo"
   ]
  },
  {
   "cell_type": "code",
   "execution_count": 26,
   "metadata": {},
   "outputs": [],
   "source": [
    "columnas_deseadas = ['Vehicle ID','Fuel ID','Model','Model Year','Fuel']"
   ]
  },
  {
   "cell_type": "markdown",
   "metadata": {},
   "source": [
    "Almacenamos las columnas deseadas en un nuevo dataset"
   ]
  },
  {
   "cell_type": "code",
   "execution_count": 27,
   "metadata": {},
   "outputs": [],
   "source": [
    "df1= df[columnas_deseadas]"
   ]
  },
  {
   "cell_type": "markdown",
   "metadata": {},
   "source": [
    "Eliminamos espacios en blanco en todas las columnas del dataset"
   ]
  },
  {
   "cell_type": "code",
   "execution_count": 28,
   "metadata": {},
   "outputs": [],
   "source": [
    "for columna in columnas_deseadas:\n",
    "    df[columna] = df[columna].astype(str).str.strip()"
   ]
  },
  {
   "cell_type": "markdown",
   "metadata": {},
   "source": [
    "Buscamos valores nulos"
   ]
  },
  {
   "cell_type": "code",
   "execution_count": 29,
   "metadata": {},
   "outputs": [
    {
     "name": "stdout",
     "output_type": "stream",
     "text": [
      "Valores nulos:\n",
      "Vehicle ID    0\n",
      "Fuel ID       0\n",
      "Model         0\n",
      "Model Year    0\n",
      "Fuel          0\n",
      "dtype: int64\n",
      "\n",
      "Porcentaje de nulos:\n",
      "Vehicle ID    0.0\n",
      "Fuel ID       0.0\n",
      "Model         0.0\n",
      "Model Year    0.0\n",
      "Fuel          0.0\n",
      "dtype: float64\n"
     ]
    }
   ],
   "source": [
    "print(\"Valores nulos:\")\n",
    "print(df1.isnull().sum())\n",
    "print(f\"\\nPorcentaje de nulos:\\n{(df1.isnull().sum() / len(df1)) * 100}\")"
   ]
  },
  {
   "cell_type": "code",
   "execution_count": 30,
   "metadata": {},
   "outputs": [
    {
     "name": "stdout",
     "output_type": "stream",
     "text": [
      "Tipos de datos originales:\n",
      "Vehicle ID     int64\n",
      "Fuel ID        int64\n",
      "Model         object\n",
      "Model Year     int64\n",
      "Fuel          object\n",
      "dtype: object\n"
     ]
    }
   ],
   "source": [
    "#Verficamos con qe tipos de datos estamos trabajando\n",
    "print(\"Tipos de datos originales:\")\n",
    "print(df1.dtypes)"
   ]
  },
  {
   "cell_type": "markdown",
   "metadata": {},
   "source": [
    "Creamos un nuevo csv con los datos limpios"
   ]
  },
  {
   "cell_type": "code",
   "execution_count": 32,
   "metadata": {},
   "outputs": [],
   "source": [
    "df1.to_csv('Light_duty_vehicles.csv', index=False)"
   ]
  }
 ],
 "metadata": {
  "kernelspec": {
   "display_name": "Python 3",
   "language": "python",
   "name": "python3"
  },
  "language_info": {
   "codemirror_mode": {
    "name": "ipython",
    "version": 3
   },
   "file_extension": ".py",
   "mimetype": "text/x-python",
   "name": "python",
   "nbconvert_exporter": "python",
   "pygments_lexer": "ipython3",
   "version": "3.12.6"
  }
 },
 "nbformat": 4,
 "nbformat_minor": 2
}
