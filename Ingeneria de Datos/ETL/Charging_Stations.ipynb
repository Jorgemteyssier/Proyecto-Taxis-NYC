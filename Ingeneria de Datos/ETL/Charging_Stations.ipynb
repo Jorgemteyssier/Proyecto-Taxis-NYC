{
 "cells": [
  {
   "cell_type": "code",
   "execution_count": 69,
   "metadata": {},
   "outputs": [],
   "source": [
    "import pandas as pd\n",
    "import numpy as np "
   ]
  },
  {
   "cell_type": "markdown",
   "metadata": {},
   "source": [
    "Abrimos el archivo *'Electric and Alternative Fuel Charging Stations.csv'*"
   ]
  },
  {
   "cell_type": "code",
   "execution_count": 70,
   "metadata": {},
   "outputs": [
    {
     "name": "stderr",
     "output_type": "stream",
     "text": [
      "C:\\Users\\Pepinot\\AppData\\Local\\Temp\\ipykernel_4984\\1086583874.py:1: DtypeWarning: Columns (6) have mixed types. Specify dtype option on import or set low_memory=False.\n",
      "  df = pd.read_csv(r'C:\\Users\\Pepinot\\Documents\\Henry\\Modulos\\PROYECTO GRUPAL\\Electric and Alternative Fuel Charging Stations.csv')\n"
     ]
    }
   ],
   "source": [
    "df = pd.read_csv(r'C:\\Users\\Pepinot\\Documents\\Henry\\Modulos\\PROYECTO GRUPAL\\Electric and Alternative Fuel Charging Stations.csv')"
   ]
  },
  {
   "cell_type": "markdown",
   "metadata": {},
   "source": [
    "Vemos una descripcion general de los datos"
   ]
  },
  {
   "cell_type": "code",
   "execution_count": 71,
   "metadata": {},
   "outputs": [
    {
     "name": "stdout",
     "output_type": "stream",
     "text": [
      "<class 'pandas.core.frame.DataFrame'>\n",
      "RangeIndex: 70406 entries, 0 to 70405\n",
      "Data columns (total 65 columns):\n",
      " #   Column                                                                                                                                                                                                                                                                                                                                                                                                       Non-Null Count  Dtype  \n",
      "---  ------                                                                                                                                                                                                                                                                                                                                                                                                       --------------  -----  \n",
      " 0   Fuel Type Code                                                                                                                                                                                                                                                                                                                                                                                               70406 non-null  object \n",
      " 1   Station Name                                                                                                                                                                                                                                                                                                                                                                                                 70406 non-null  object \n",
      " 2   Street Address                                                                                                                                                                                                                                                                                                                                                                                               70406 non-null  object \n",
      " 3   Intersection Directions                                                                                                                                                                                                                                                                                                                                                                                      70406 non-null  object \n",
      " 4   City                                                                                                                                                                                                                                                                                                                                                                                                         70406 non-null  object \n",
      " 5   State                                                                                                                                                                                                                                                                                                                                                                                                        70406 non-null  object \n",
      " 6   ZIP                                                                                                                                                                                                                                                                                                                                                                                                          70406 non-null  object \n",
      " 7   Plus4                                                                                                                                                                                                                                                                                                                                                                                                        70406 non-null  object \n",
      " 8   Station Phone                                                                                                                                                                                                                                                                                                                                                                                                70406 non-null  object \n",
      " 9   Status Code                                                                                                                                                                                                                                                                                                                                                                                                  70406 non-null  object \n",
      " 10  Expected Date                                                                                                                                                                                                                                                                                                                                                                                                70406 non-null  object \n",
      " 11  Groups With Access Code                                                                                                                                                                                                                                                                                                                                                                                      70406 non-null  object \n",
      " 12  Access Days Time                                                                                                                                                                                                                                                                                                                                                                                             70406 non-null  object \n",
      " 13  Cards Accepted                                                                                                                                                                                                                                                                                                                                                                                               70406 non-null  object \n",
      " 14  BD Blends                                                                                                                                                                                                                                                                                                                                                                                                    70406 non-null  object \n",
      " 15  NG Fill Type Code                                                                                                                                                                                                                                                                                                                                                                                            70406 non-null  object \n",
      " 16  NG PSI                                                                                                                                                                                                                                                                                                                                                                                                       70406 non-null  object \n",
      " 17  EV Level1 EVSE Num                                                                                                                                                                                                                                                                                                                                                                                           70406 non-null  object \n",
      " 18  EV Level2 EVSE Num                                                                                                                                                                                                                                                                                                                                                                                           70406 non-null  object \n",
      " 19  EV DC Fast Count                                                                                                                                                                                                                                                                                                                                                                                             70406 non-null  object \n",
      " 20  EV Other Info                                                                                                                                                                                                                                                                                                                                                                                                70406 non-null  object \n",
      " 21  EV Network                                                                                                                                                                                                                                                                                                                                                                                                   70406 non-null  object \n",
      " 22  EV Network Web                                                                                                                                                                                                                                                                                                                                                                                               70406 non-null  object \n",
      " 23  Geocode Status                                                                                                                                                                                                                                                                                                                                                                                               70406 non-null  object \n",
      " 24  Latitude                                                                                                                                                                                                                                                                                                                                                                                                     70406 non-null  float64\n",
      " 25  Longitude                                                                                                                                                                                                                                                                                                                                                                                                    70406 non-null  float64\n",
      " 26  Date Last Confirmed                                                                                                                                                                                                                                                                                                                                                                                          70406 non-null  object \n",
      " 27  ID                                                                                                                                                                                                                                                                                                                                                                                                           70406 non-null  int64  \n",
      " 28  Updated At                                                                                                                                                                                                                                                                                                                                                                                                   70406 non-null  object \n",
      " 29  Owner Type Code                                                                                                                                                                                                                                                                                                                                                                                              70406 non-null  object \n",
      " 30  Federal Agency ID                                                                                                                                                                                                                                                                                                                                                                                            70406 non-null  object \n",
      " 31  Federal Agency Name                                                                                                                                                                                                                                                                                                                                                                                          70406 non-null  object \n",
      " 32  Open Date                                                                                                                                                                                                                                                                                                                                                                                                    70406 non-null  object \n",
      " 33  Hydrogen Status Link                                                                                                                                                                                                                                                                                                                                                                                         70406 non-null  object \n",
      " 34  NG Vehicle Class                                                                                                                                                                                                                                                                                                                                                                                             70406 non-null  object \n",
      " 35  LPG Primary                                                                                                                                                                                                                                                                                                                                                                                                  70406 non-null  object \n",
      " 36  E85 Blender Pump                                                                                                                                                                                                                                                                                                                                                                                             70406 non-null  object \n",
      " 37  EV Connector Types                                                                                                                                                                                                                                                                                                                                                                                           70406 non-null  object \n",
      " 38  Country                                                                                                                                                                                                                                                                                                                                                                                                      70406 non-null  object \n",
      " 39  Intersection Directions (French)                                                                                                                                                                                                                                                                                                                                                                             70406 non-null  object \n",
      " 40  Access Days Time (French)                                                                                                                                                                                                                                                                                                                                                                                    70406 non-null  object \n",
      " 41  BD Blends (French)                                                                                                                                                                                                                                                                                                                                                                                           70406 non-null  object \n",
      " 42  Groups With Access Code (French)                                                                                                                                                                                                                                                                                                                                                                             70406 non-null  object \n",
      " 43  Hydrogen Is Retail                                                                                                                                                                                                                                                                                                                                                                                           70406 non-null  object \n",
      " 44  Access Code                                                                                                                                                                                                                                                                                                                                                                                                  70406 non-null  object \n",
      " 45  Access Detail Code                                                                                                                                                                                                                                                                                                                                                                                           70406 non-null  object \n",
      " 46  Federal Agency Code                                                                                                                                                                                                                                                                                                                                                                                          70406 non-null  object \n",
      " 47  Facility Type                                                                                                                                                                                                                                                                                                                                                                                                70406 non-null  object \n",
      " 48  CNG Dispenser Num                                                                                                                                                                                                                                                                                                                                                                                            70406 non-null  object \n",
      " 49  CNG On-Site Renewable Source                                                                                                                                                                                                                                                                                                                                                                                 70406 non-null  object \n",
      " 50  CNG Total Compression Capacity                                                                                                                                                                                                                                                                                                                                                                               70406 non-null  object \n",
      " 51  CNG Storage Capacity                                                                                                                                                                                                                                                                                                                                                                                         70406 non-null  object \n",
      " 52  LNG On-Site Renewable Source                                                                                                                                                                                                                                                                                                                                                                                 70406 non-null  object \n",
      " 53  E85 Other Ethanol Blends                                                                                                                                                                                                                                                                                                                                                                                     70406 non-null  object \n",
      " 54  EV Pricing                                                                                                                                                                                                                                                                                                                                                                                                   70406 non-null  object \n",
      " 55  EV Pricing (French)                                                                                                                                                                                                                                                                                                                                                                                          70406 non-null  object \n",
      " 56  LPG Nozzle Types                                                                                                                                                                                                                                                                                                                                                                                             70406 non-null  object \n",
      " 57  Hydrogen Pressures                                                                                                                                                                                                                                                                                                                                                                                           70406 non-null  object \n",
      " 58  Hydrogen Standards                                                                                                                                                                                                                                                                                                                                                                                           70406 non-null  object \n",
      " 59  CNG Fill Type Code                                                                                                                                                                                                                                                                                                                                                                                           70406 non-null  object \n",
      " 60  CNG PSI                                                                                                                                                                                                                                                                                                                                                                                                      70406 non-null  object \n",
      " 61  CNG Vehicle Class                                                                                                                                                                                                                                                                                                                                                                                            70406 non-null  object \n",
      " 62  LNG Vehicle Class                                                                                                                                                                                                                                                                                                                                                                                            70406 non-null  object \n",
      " 63  EV On-Site Renewable Source                                                                                                                                                                                                                                                                                                                                                                                  70406 non-null  object \n",
      " 64  Restricted Access                                                                                                                                                                                                                                                                                                                                                                                            53435 non-null  object \n",
      "dtypes: float64(2), int64(1), object(62)\n",
      "memory usage: 34.9+ MB\n",
      "None\n",
      "       Latitude             Longitude                   ID     \n",
      "count         70406.000000          70406.000000   70406.000000\n",
      "mean             38.929309            -96.061447  148730.326066\n",
      "std               5.628458             19.545273   54261.672118\n",
      "min               0.000000           -159.788556      17.000000\n",
      "25%              34.182981           -117.860563  113723.250000\n",
      "50%              39.105989            -92.002897  165247.500000\n",
      "75%              42.702185            -78.881493  190653.750000\n",
      "max              64.852466             40.432278  224382.000000\n"
     ]
    }
   ],
   "source": [
    "print(df.info())\n",
    "print(df.describe())"
   ]
  },
  {
   "cell_type": "markdown",
   "metadata": {},
   "source": [
    "Observamos la cantidad de columnas y filas"
   ]
  },
  {
   "cell_type": "code",
   "execution_count": 72,
   "metadata": {},
   "outputs": [
    {
     "name": "stdout",
     "output_type": "stream",
     "text": [
      "Número de filas: 70406\n",
      "Número de columnas: 65\n"
     ]
    }
   ],
   "source": [
    "num_filas, num_columnas = df.shape\n",
    "\n",
    "print(f\"Número de filas: {num_filas}\")\n",
    "print(f\"Número de columnas: {num_columnas}\")"
   ]
  },
  {
   "cell_type": "markdown",
   "metadata": {},
   "source": [
    "Vemos los nombres de las columnas para evaluar cuales seran necesarias"
   ]
  },
  {
   "cell_type": "code",
   "execution_count": 73,
   "metadata": {},
   "outputs": [
    {
     "name": "stdout",
     "output_type": "stream",
     "text": [
      "Nombres de columnas originales:\n",
      "['Fuel Type Code ', 'Station Name                                                                                                         ', 'Street Address                                                                 ', 'Intersection Directions                                                                                                                                                                                                                                                                                                                                                                                    ', 'City                                   ', 'State ', 'ZIP      ', 'Plus4 ', 'Station Phone                            ', 'Status Code ', 'Expected Date ', 'Groups With Access Code                                          ', 'Access Days Time                                                                                                                                                                                                                                                                 ', 'Cards Accepted                                                                                                                                                           ', 'BD Blends                              ', 'NG Fill Type Code ', 'NG PSI    ', 'EV Level1 EVSE Num ', 'EV Level2 EVSE Num ', 'EV DC Fast Count ', 'EV Other Info      ', 'EV Network              ', 'EV Network Web                                                                         ', 'Geocode Status ', 'Latitude           ', 'Longitude           ', 'Date Last Confirmed ', 'ID     ', 'Updated At              ', 'Owner Type Code ', 'Federal Agency ID ', 'Federal Agency Name                           ', 'Open Date  ', 'Hydrogen Status Link                                 ', 'NG Vehicle Class ', 'LPG Primary ', 'E85 Blender Pump ', 'EV Connector Types               ', 'Country ', 'Intersection Directions (French)                                                                                                                                            ', 'Access Days Time (French)                                                                                                                                                                         ', 'BD Blends (French) ', 'Groups With Access Code (French)                                                ', 'Hydrogen Is Retail ', 'Access Code ', 'Access Detail Code      ', 'Federal Agency Code ', 'Facility Type             ', 'CNG Dispenser Num ', 'CNG On-Site Renewable Source ', 'CNG Total Compression Capacity ', 'CNG Storage Capacity ', 'LNG On-Site Renewable Source ', 'E85 Other Ethanol Blends                            ', 'EV Pricing                                                                                                                     ', 'EV Pricing (French)                                                                                                          ', 'LPG Nozzle Types                ', 'Hydrogen Pressures   ', 'Hydrogen Standards ', 'CNG Fill Type Code ', 'CNG PSI   ', 'CNG Vehicle Class ', 'LNG Vehicle Class ', 'EV On-Site Renewable Source ', 'Restricted Access']\n"
     ]
    }
   ],
   "source": [
    "print(\"Nombres de columnas originales:\")\n",
    "print(df.columns.tolist())"
   ]
  },
  {
   "cell_type": "markdown",
   "metadata": {},
   "source": [
    "Limpiamos los nombres de las columnas (eliminar espacios al inicio y al final)"
   ]
  },
  {
   "cell_type": "code",
   "execution_count": 74,
   "metadata": {},
   "outputs": [],
   "source": [
    "df.columns = df.columns.str.strip()"
   ]
  },
  {
   "cell_type": "markdown",
   "metadata": {},
   "source": [
    "Verificamos como quedaron luego de la limpieza"
   ]
  },
  {
   "cell_type": "code",
   "execution_count": 75,
   "metadata": {},
   "outputs": [
    {
     "name": "stdout",
     "output_type": "stream",
     "text": [
      "\n",
      "Nombres de columnas después de la limpieza:\n",
      "['Fuel Type Code', 'Station Name', 'Street Address', 'Intersection Directions', 'City', 'State', 'ZIP', 'Plus4', 'Station Phone', 'Status Code', 'Expected Date', 'Groups With Access Code', 'Access Days Time', 'Cards Accepted', 'BD Blends', 'NG Fill Type Code', 'NG PSI', 'EV Level1 EVSE Num', 'EV Level2 EVSE Num', 'EV DC Fast Count', 'EV Other Info', 'EV Network', 'EV Network Web', 'Geocode Status', 'Latitude', 'Longitude', 'Date Last Confirmed', 'ID', 'Updated At', 'Owner Type Code', 'Federal Agency ID', 'Federal Agency Name', 'Open Date', 'Hydrogen Status Link', 'NG Vehicle Class', 'LPG Primary', 'E85 Blender Pump', 'EV Connector Types', 'Country', 'Intersection Directions (French)', 'Access Days Time (French)', 'BD Blends (French)', 'Groups With Access Code (French)', 'Hydrogen Is Retail', 'Access Code', 'Access Detail Code', 'Federal Agency Code', 'Facility Type', 'CNG Dispenser Num', 'CNG On-Site Renewable Source', 'CNG Total Compression Capacity', 'CNG Storage Capacity', 'LNG On-Site Renewable Source', 'E85 Other Ethanol Blends', 'EV Pricing', 'EV Pricing (French)', 'LPG Nozzle Types', 'Hydrogen Pressures', 'Hydrogen Standards', 'CNG Fill Type Code', 'CNG PSI', 'CNG Vehicle Class', 'LNG Vehicle Class', 'EV On-Site Renewable Source', 'Restricted Access']\n"
     ]
    }
   ],
   "source": [
    "print(\"\\nNombres de columnas después de la limpieza:\")\n",
    "print(df.columns.tolist())"
   ]
  },
  {
   "cell_type": "markdown",
   "metadata": {},
   "source": [
    "Buscamos **duplicados**"
   ]
  },
  {
   "cell_type": "code",
   "execution_count": 76,
   "metadata": {},
   "outputs": [
    {
     "name": "stdout",
     "output_type": "stream",
     "text": [
      "\n",
      "No se encontraron columnas duplicadas después de la limpieza.\n"
     ]
    }
   ],
   "source": [
    "#Deteccion en columnas\n",
    "\n",
    "duplicados = df.columns[df.columns.duplicated()].tolist()\n",
    "if duplicados:\n",
    "    print(f\"\\nAtención: Se encontraron columnas duplicadas después de la limpieza: {duplicados}\")\n",
    "else:\n",
    "    print(\"\\nNo se encontraron columnas duplicadas después de la limpieza.\")"
   ]
  },
  {
   "cell_type": "code",
   "execution_count": 77,
   "metadata": {},
   "outputs": [
    {
     "name": "stdout",
     "output_type": "stream",
     "text": [
      "\n",
      "Número de filas duplicadas: 0\n"
     ]
    }
   ],
   "source": [
    "#Deteccion en filas\n",
    "duplicados = df.duplicated().sum()\n",
    "print(f\"\\nNúmero de filas duplicadas: {duplicados}\")"
   ]
  },
  {
   "cell_type": "markdown",
   "metadata": {},
   "source": [
    "Vamos a crear un nuevo Data Frame con las columnas deseadas para trabajar"
   ]
  },
  {
   "cell_type": "markdown",
   "metadata": {},
   "source": [
    "Seleccionamos las columnas"
   ]
  },
  {
   "cell_type": "code",
   "execution_count": 78,
   "metadata": {},
   "outputs": [],
   "source": [
    "columnas_deseadas = ['Fuel Type Code','Station Name','Street Address','City','State','Latitude','Longitude','Date Last Confirmed']"
   ]
  },
  {
   "cell_type": "markdown",
   "metadata": {},
   "source": [
    "Las alojamos en un nuevo Data Frame (df1)"
   ]
  },
  {
   "cell_type": "code",
   "execution_count": 79,
   "metadata": {},
   "outputs": [],
   "source": [
    "df1= df[columnas_deseadas]"
   ]
  },
  {
   "cell_type": "markdown",
   "metadata": {},
   "source": [
    "Buscamos si hay **valores nulos**"
   ]
  },
  {
   "cell_type": "code",
   "execution_count": 80,
   "metadata": {},
   "outputs": [
    {
     "name": "stdout",
     "output_type": "stream",
     "text": [
      "Valores nulos:\n",
      "Fuel Type Code         0\n",
      "Station Name           0\n",
      "Street Address         0\n",
      "City                   0\n",
      "State                  0\n",
      "Latitude               0\n",
      "Longitude              0\n",
      "Date Last Confirmed    0\n",
      "dtype: int64\n",
      "\n",
      "Porcentaje de nulos:\n",
      "Fuel Type Code         0.0\n",
      "Station Name           0.0\n",
      "Street Address         0.0\n",
      "City                   0.0\n",
      "State                  0.0\n",
      "Latitude               0.0\n",
      "Longitude              0.0\n",
      "Date Last Confirmed    0.0\n",
      "dtype: float64\n"
     ]
    }
   ],
   "source": [
    "print(\"Valores nulos:\")\n",
    "print(df1.isnull().sum())\n",
    "print(f\"\\nPorcentaje de nulos:\\n{(df1.isnull().sum() / len(df1)) * 100}\")"
   ]
  },
  {
   "cell_type": "code",
   "execution_count": 81,
   "metadata": {},
   "outputs": [
    {
     "name": "stdout",
     "output_type": "stream",
     "text": [
      "Tipos de datos originales:\n",
      "Fuel Type Code          object\n",
      "Station Name            object\n",
      "Street Address          object\n",
      "City                    object\n",
      "State                   object\n",
      "Latitude               float64\n",
      "Longitude              float64\n",
      "Date Last Confirmed     object\n",
      "dtype: object\n"
     ]
    }
   ],
   "source": [
    "#Verficamos con qe tipos de datos estamos trabajando\n",
    "print(\"Tipos de datos originales:\")\n",
    "print(df1.dtypes)\n"
   ]
  },
  {
   "cell_type": "markdown",
   "metadata": {},
   "source": [
    "Eliminamos espacios en blanco en todas las columnas del dataset"
   ]
  },
  {
   "cell_type": "code",
   "execution_count": 82,
   "metadata": {},
   "outputs": [
    {
     "name": "stderr",
     "output_type": "stream",
     "text": [
      "C:\\Users\\Pepinot\\AppData\\Local\\Temp\\ipykernel_4984\\3168958325.py:2: FutureWarning: Setting an item of incompatible dtype is deprecated and will raise in a future error of pandas. Value '['32.367916' '33.745843' '33.821911' ... '38.817727' '34.31887929'\n",
      " '34.19259914']' has dtype incompatible with float64, please explicitly cast to a compatible dtype first.\n",
      "  df1.loc[:,columna] = df1.loc[:,columna].astype(str).str.strip()\n",
      "C:\\Users\\Pepinot\\AppData\\Local\\Temp\\ipykernel_4984\\3168958325.py:2: FutureWarning: Setting an item of incompatible dtype is deprecated and will raise in a future error of pandas. Value '['-86.267021' '-84.398837' '-84.367461' ... '-121.188751' '-118.4644775'\n",
      " '-118.4488238']' has dtype incompatible with float64, please explicitly cast to a compatible dtype first.\n",
      "  df1.loc[:,columna] = df1.loc[:,columna].astype(str).str.strip()\n"
     ]
    }
   ],
   "source": [
    "for columna in columnas_deseadas:\n",
    "    df1.loc[:,columna] = df1.loc[:,columna].astype(str).str.strip()"
   ]
  },
  {
   "cell_type": "code",
   "execution_count": 83,
   "metadata": {},
   "outputs": [
    {
     "name": "stderr",
     "output_type": "stream",
     "text": [
      "C:\\Users\\Pepinot\\AppData\\Local\\Temp\\ipykernel_4984\\1558733101.py:3: SettingWithCopyWarning: \n",
      "A value is trying to be set on a copy of a slice from a DataFrame.\n",
      "Try using .loc[row_indexer,col_indexer] = value instead\n",
      "\n",
      "See the caveats in the documentation: https://pandas.pydata.org/pandas-docs/stable/user_guide/indexing.html#returning-a-view-versus-a-copy\n",
      "  df1['Date Last Confirmed'] = pd.to_datetime(df1['Date Last Confirmed'])\n"
     ]
    }
   ],
   "source": [
    "#Pasamos la columna 'Date Last Confirmed' a un tipo de data date\n",
    "\n",
    "df1['Date Last Confirmed'] = pd.to_datetime(df1['Date Last Confirmed'])"
   ]
  },
  {
   "cell_type": "code",
   "execution_count": 84,
   "metadata": {},
   "outputs": [],
   "source": [
    "#Creamos un nuevo csv con los datos limpios\n",
    "\n",
    "df1.to_csv('Charging_stations.csv', index=False)"
   ]
  }
 ],
 "metadata": {
  "kernelspec": {
   "display_name": "Python 3",
   "language": "python",
   "name": "python3"
  },
  "language_info": {
   "codemirror_mode": {
    "name": "ipython",
    "version": 3
   },
   "file_extension": ".py",
   "mimetype": "text/x-python",
   "name": "python",
   "nbconvert_exporter": "python",
   "pygments_lexer": "ipython3",
   "version": "3.12.6"
  }
 },
 "nbformat": 4,
 "nbformat_minor": 2
}
